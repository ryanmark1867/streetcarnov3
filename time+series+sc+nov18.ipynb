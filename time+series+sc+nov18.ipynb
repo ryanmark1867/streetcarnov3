{
 "cells": [
  {
   "cell_type": "markdown",
   "metadata": {},
   "source": [
    "# Streetcar Delay Prediction\n",
    "\n",
    "Use dataset covering Toronto Transit Commission (TTC) streetcar delays 2014 - 2018 to predict future delays and come up with recommendations for avoiding delays.\n",
    "\n",
    "Source dataset: : https://www.toronto.ca/city-government/data-research-maps/open-data/open-data-catalogue/#e8f359f0-2f47-3058-bf64-6ec488de52da"
   ]
  },
  {
   "cell_type": "markdown",
   "metadata": {},
   "source": [
    "# Streetcar routes\n",
    "\n",
    "From https://www.ttc.ca/Routes/Streetcars.jsp\n",
    "\n",
    "<table style=\"border: none\" align=\"left\">\n",
    "   </tr>\n",
    "   <tr style=\"border: none\">\n",
    "       <th style=\"border: none\"><img src=\"https://raw.githubusercontent.com/ryanmark1867/streetcarnov3/master/streetcar%20routes.jpg\" width=\"600\" alt=\"Icon\"> </th>\n",
    "   </tr>\n",
    "</table>"
   ]
  },
  {
   "cell_type": "code",
   "execution_count": 1,
   "metadata": {},
   "outputs": [
    {
     "name": "stdout",
     "output_type": "stream",
     "text": [
      "/home/paperspace/fastai/courses/streetcar\r\n"
     ]
    }
   ],
   "source": [
    "! pwd"
   ]
  },
  {
   "cell_type": "markdown",
   "metadata": {},
   "source": [
    "# Load and Save Data\n",
    "- parse list of XLS files \n",
    "- load XLS files, tab by tab, into dataframe\n",
    "- pickle dataframe for future runs"
   ]
  },
  {
   "cell_type": "code",
   "execution_count": 2,
   "metadata": {},
   "outputs": [
    {
     "name": "stderr",
     "output_type": "stream",
     "text": [
      "/home/paperspace/anaconda3/envs/fastai/lib/python3.6/site-packages/statsmodels/compat/pandas.py:56: FutureWarning: The pandas.core.datetools module is deprecated and will be removed in a future version. Please use the pandas.tseries module instead.\n",
      "  from pandas.core import datetools\n"
     ]
    }
   ],
   "source": [
    "import numpy as np # linear algebra\n",
    "import pandas as pd # data processing, CSV file I/O (e.g. pd.read_csv)\n",
    "import matplotlib.pyplot as plt\n",
    "import statsmodels.api as sm\n",
    "import seaborn as sns\n",
    "import datetime\n"
   ]
  },
  {
   "cell_type": "code",
   "execution_count": 3,
   "metadata": {},
   "outputs": [],
   "source": [
    "# path = '../datasets/'\n",
    "path = '/home/paperspace/data/streetcar/'\n",
    "pickled_data_file = '20142018_0930.pkl'"
   ]
  },
  {
   "cell_type": "code",
   "execution_count": 4,
   "metadata": {},
   "outputs": [],
   "source": [
    "#path = os.getcwd()\n",
    "def get_xls_list(path):\n",
    "    # path = '../datasets/'\n",
    "    files = os.listdir(path)\n",
    "    files_xls = [f for f in files if f[-4:] == 'xlsx']\n",
    "    print(files)\n",
    "    print(files_xls)\n",
    "    return(files_xls)\n"
   ]
  },
  {
   "cell_type": "code",
   "execution_count": 5,
   "metadata": {},
   "outputs": [],
   "source": [
    "def load_xls(path, files_xls, df):\n",
    "    for f in files_xls:\n",
    "        print(\"file name\",f)\n",
    "        xlsf = pd.ExcelFile(path+f)\n",
    "        # iterate through sheets\n",
    "        for sheet_name in xlsf.sheet_names:\n",
    "            # df = pd.read_excel(file_name, sheetname=\"house\")\n",
    "            print(\"sheet_name\",sheet_name)\n",
    "            if (f != 'Streetcar 2014.xlsx') or (sheet_name != 'Jan 2014'):\n",
    "                print(\"sheet_name in loop\",sheet_name)\n",
    "                data = pd.read_excel(path+f,sheetname=sheet_name)    \n",
    "                df = df.append(data)\n",
    "    return (df)"
   ]
  },
  {
   "cell_type": "code",
   "execution_count": 6,
   "metadata": {},
   "outputs": [],
   "source": [
    "def reloader(path,picklename):\n",
    "    # get list of all xls files in the path\n",
    "    files_xls = get_xls_list(path)\n",
    "    print(\"list of xls\",files_xls)\n",
    "    # seed initial tab on initial xls file\n",
    "    dfnew = pd.read_excel(path+'Streetcar 2014.xlsx')\n",
    "    # load the remaining tabs from all the other xls\n",
    "    dflatest = load_xls(path,files_xls,dfnew)\n",
    "    # save dataframe to pickle\n",
    "    dflatest.to_pickle(\"../'+ picklename\")\n",
    "    # return dataframe loaded with all tabs of all xls files\n",
    "    return(dflastest)\n",
    "    "
   ]
  },
  {
   "cell_type": "code",
   "execution_count": 7,
   "metadata": {},
   "outputs": [],
   "source": [
    "def define_feature_categories(df):\n",
    "    allcols = list(df)\n",
    "    print(\"all cols\",allcols)\n",
    "    textcols = ['Incident','Location'] # \n",
    "    continuouscols = ['Min Delay','Min Gap'] \n",
    "                      # columns to deal with as continuous values - no embeddings\n",
    "    timecols = ['Report Date','Time']\n",
    "    collist = ['Day','Vehicle','Route','Direction']\n",
    "    for col in continuouscols:\n",
    "        df[col] = df[col].astype(float)\n",
    "    print('texcols: ',textcols)\n",
    "    print('continuouscols: ',continuouscols)\n",
    "    print('timecols: ',timecols)\n",
    "    print('collist: ',collist)\n",
    "    return(allcols,textcols,continuouscols,timecols,collist)"
   ]
  },
  {
   "cell_type": "code",
   "execution_count": 8,
   "metadata": {},
   "outputs": [],
   "source": [
    "def fill_missing(dataset):\n",
    "    print(\"before mv\")\n",
    "    for col in collist:\n",
    "        dataset[col].fillna(value=\"missing\", inplace=True)\n",
    "    for col in continuouscols:\n",
    "        dataset[col].fillna(value=0.0,inplace=True)\n",
    "    for col in textcols:\n",
    "        dataset[col].fillna(value=\"missing\", inplace=True)\n",
    "    return (dataset)"
   ]
  },
  {
   "cell_type": "markdown",
   "metadata": {},
   "source": [
    "# Load dataframe and add columns for time series manipulation\n",
    "- load pickled dataframe\n",
    "- show info about the dataset\n",
    "- build index combining date+time along with labelled column date+time\n"
   ]
  },
  {
   "cell_type": "code",
   "execution_count": 9,
   "metadata": {},
   "outputs": [],
   "source": [
    "# read in previously pickled dataframe containing data from s/s 2014 - 2018\n",
    "unpickled_df = pd.read_pickle(path+pickled_data_file)"
   ]
  },
  {
   "cell_type": "code",
   "execution_count": 10,
   "metadata": {},
   "outputs": [
    {
     "data": {
      "text/html": [
       "<div>\n",
       "<style scoped>\n",
       "    .dataframe tbody tr th:only-of-type {\n",
       "        vertical-align: middle;\n",
       "    }\n",
       "\n",
       "    .dataframe tbody tr th {\n",
       "        vertical-align: top;\n",
       "    }\n",
       "\n",
       "    .dataframe thead th {\n",
       "        text-align: right;\n",
       "    }\n",
       "</style>\n",
       "<table border=\"1\" class=\"dataframe\">\n",
       "  <thead>\n",
       "    <tr style=\"text-align: right;\">\n",
       "      <th></th>\n",
       "      <th>Report Date</th>\n",
       "      <th>Route</th>\n",
       "      <th>Time</th>\n",
       "      <th>Day</th>\n",
       "      <th>Location</th>\n",
       "      <th>Incident</th>\n",
       "      <th>Min Delay</th>\n",
       "      <th>Min Gap</th>\n",
       "      <th>Direction</th>\n",
       "      <th>Vehicle</th>\n",
       "    </tr>\n",
       "  </thead>\n",
       "  <tbody>\n",
       "    <tr>\n",
       "      <th>0</th>\n",
       "      <td>2014-01-02</td>\n",
       "      <td>505</td>\n",
       "      <td>06:31:00</td>\n",
       "      <td>Thursday</td>\n",
       "      <td>Dundas and Roncesvalles</td>\n",
       "      <td>Late Leaving Garage</td>\n",
       "      <td>4.0</td>\n",
       "      <td>8.0</td>\n",
       "      <td>E/B</td>\n",
       "      <td>4018.0</td>\n",
       "    </tr>\n",
       "    <tr>\n",
       "      <th>1</th>\n",
       "      <td>2014-01-02</td>\n",
       "      <td>504</td>\n",
       "      <td>12:43:00</td>\n",
       "      <td>Thursday</td>\n",
       "      <td>King and Shaw</td>\n",
       "      <td>Utilized Off Route</td>\n",
       "      <td>20.0</td>\n",
       "      <td>22.0</td>\n",
       "      <td>E/B</td>\n",
       "      <td>4128.0</td>\n",
       "    </tr>\n",
       "    <tr>\n",
       "      <th>2</th>\n",
       "      <td>2014-01-02</td>\n",
       "      <td>501</td>\n",
       "      <td>14:01:00</td>\n",
       "      <td>Thursday</td>\n",
       "      <td>Kingston road and Bingham</td>\n",
       "      <td>Held By</td>\n",
       "      <td>13.0</td>\n",
       "      <td>19.0</td>\n",
       "      <td>W/B</td>\n",
       "      <td>4016.0</td>\n",
       "    </tr>\n",
       "    <tr>\n",
       "      <th>3</th>\n",
       "      <td>2014-01-02</td>\n",
       "      <td>504</td>\n",
       "      <td>14:22:00</td>\n",
       "      <td>Thursday</td>\n",
       "      <td>King St. and Roncesvalles Ave.</td>\n",
       "      <td>Investigation</td>\n",
       "      <td>7.0</td>\n",
       "      <td>11.0</td>\n",
       "      <td>W/B</td>\n",
       "      <td>4175.0</td>\n",
       "    </tr>\n",
       "    <tr>\n",
       "      <th>4</th>\n",
       "      <td>2014-01-02</td>\n",
       "      <td>504</td>\n",
       "      <td>16:42:00</td>\n",
       "      <td>Thursday</td>\n",
       "      <td>King and Bathurst</td>\n",
       "      <td>Utilized Off Route</td>\n",
       "      <td>3.0</td>\n",
       "      <td>6.0</td>\n",
       "      <td>E/B</td>\n",
       "      <td>4080.0</td>\n",
       "    </tr>\n",
       "  </tbody>\n",
       "</table>\n",
       "</div>"
      ],
      "text/plain": [
       "  Report Date  Route      Time       Day                        Location  \\\n",
       "0  2014-01-02    505  06:31:00  Thursday         Dundas and Roncesvalles   \n",
       "1  2014-01-02    504  12:43:00  Thursday                   King and Shaw   \n",
       "2  2014-01-02    501  14:01:00  Thursday       Kingston road and Bingham   \n",
       "3  2014-01-02    504  14:22:00  Thursday  King St. and Roncesvalles Ave.   \n",
       "4  2014-01-02    504  16:42:00  Thursday               King and Bathurst   \n",
       "\n",
       "              Incident  Min Delay  Min Gap Direction  Vehicle  \n",
       "0  Late Leaving Garage        4.0      8.0       E/B   4018.0  \n",
       "1   Utilized Off Route       20.0     22.0       E/B   4128.0  \n",
       "2              Held By       13.0     19.0       W/B   4016.0  \n",
       "3        Investigation        7.0     11.0       W/B   4175.0  \n",
       "4   Utilized Off Route        3.0      6.0       E/B   4080.0  "
      ]
     },
     "execution_count": 10,
     "metadata": {},
     "output_type": "execute_result"
    }
   ],
   "source": [
    "df = unpickled_df\n",
    "df.head()"
   ]
  },
  {
   "cell_type": "code",
   "execution_count": 11,
   "metadata": {},
   "outputs": [],
   "source": [
    "# ensure Route and Vehicle are strings, not numeric\n",
    "# df = df.astype({\"Route\": str, \"Vehicle\": int})\n",
    "df['Route'] = df['Route'].astype(str)\n",
    "df['Vehicle'] = df['Vehicle'].astype(str)"
   ]
  },
  {
   "cell_type": "code",
   "execution_count": 12,
   "metadata": {},
   "outputs": [
    {
     "name": "stdout",
     "output_type": "stream",
     "text": [
      "all cols ['Report Date', 'Route', 'Time', 'Day', 'Location', 'Incident', 'Min Delay', 'Min Gap', 'Direction', 'Vehicle']\n",
      "texcols:  ['Incident', 'Location']\n",
      "continuouscols:  ['Min Delay', 'Min Gap']\n",
      "timecols:  ['Report Date', 'Time']\n",
      "collist:  ['Day', 'Vehicle', 'Route', 'Direction']\n"
     ]
    }
   ],
   "source": [
    "# define categories\n",
    "allcols,textcols,continuouscols,timecols,collist = define_feature_categories(df) "
   ]
  },
  {
   "cell_type": "code",
   "execution_count": 13,
   "metadata": {},
   "outputs": [
    {
     "name": "stdout",
     "output_type": "stream",
     "text": [
      "before mv\n"
     ]
    }
   ],
   "source": [
    "# fill in missing values\n",
    "df = fill_missing(df)"
   ]
  },
  {
   "cell_type": "code",
   "execution_count": 14,
   "metadata": {},
   "outputs": [
    {
     "name": "stdout",
     "output_type": "stream",
     "text": [
      "<class 'pandas.core.frame.DataFrame'>\n",
      "Int64Index: 60717 entries, 0 to 1697\n",
      "Data columns (total 10 columns):\n",
      "Report Date    60717 non-null datetime64[ns]\n",
      "Route          60717 non-null object\n",
      "Time           60717 non-null object\n",
      "Day            60717 non-null object\n",
      "Location       60717 non-null object\n",
      "Incident       60717 non-null object\n",
      "Min Delay      60717 non-null float64\n",
      "Min Gap        60717 non-null float64\n",
      "Direction      60717 non-null object\n",
      "Vehicle        60717 non-null object\n",
      "dtypes: datetime64[ns](1), float64(2), object(7)\n",
      "memory usage: 5.1+ MB\n"
     ]
    }
   ],
   "source": [
    "# getting some information about dataset\n",
    "df.info()"
   ]
  },
  {
   "cell_type": "code",
   "execution_count": 15,
   "metadata": {},
   "outputs": [
    {
     "data": {
      "text/plain": [
       "(60717, 10)"
      ]
     },
     "execution_count": 15,
     "metadata": {},
     "output_type": "execute_result"
    }
   ],
   "source": [
    "# getting some information about dataset\n",
    "df.shape"
   ]
  },
  {
   "cell_type": "code",
   "execution_count": 16,
   "metadata": {},
   "outputs": [
    {
     "data": {
      "text/html": [
       "<div>\n",
       "<style scoped>\n",
       "    .dataframe tbody tr th:only-of-type {\n",
       "        vertical-align: middle;\n",
       "    }\n",
       "\n",
       "    .dataframe tbody tr th {\n",
       "        vertical-align: top;\n",
       "    }\n",
       "\n",
       "    .dataframe thead th {\n",
       "        text-align: right;\n",
       "    }\n",
       "</style>\n",
       "<table border=\"1\" class=\"dataframe\">\n",
       "  <thead>\n",
       "    <tr style=\"text-align: right;\">\n",
       "      <th></th>\n",
       "      <th>Min Delay</th>\n",
       "      <th>Min Gap</th>\n",
       "    </tr>\n",
       "  </thead>\n",
       "  <tbody>\n",
       "    <tr>\n",
       "      <th>count</th>\n",
       "      <td>60717.000000</td>\n",
       "      <td>60717.000000</td>\n",
       "    </tr>\n",
       "    <tr>\n",
       "      <th>mean</th>\n",
       "      <td>12.771876</td>\n",
       "      <td>18.222475</td>\n",
       "    </tr>\n",
       "    <tr>\n",
       "      <th>std</th>\n",
       "      <td>30.185644</td>\n",
       "      <td>34.504756</td>\n",
       "    </tr>\n",
       "    <tr>\n",
       "      <th>min</th>\n",
       "      <td>0.000000</td>\n",
       "      <td>0.000000</td>\n",
       "    </tr>\n",
       "    <tr>\n",
       "      <th>25%</th>\n",
       "      <td>5.000000</td>\n",
       "      <td>9.000000</td>\n",
       "    </tr>\n",
       "    <tr>\n",
       "      <th>50%</th>\n",
       "      <td>6.000000</td>\n",
       "      <td>12.000000</td>\n",
       "    </tr>\n",
       "    <tr>\n",
       "      <th>75%</th>\n",
       "      <td>12.000000</td>\n",
       "      <td>20.000000</td>\n",
       "    </tr>\n",
       "    <tr>\n",
       "      <th>max</th>\n",
       "      <td>1400.000000</td>\n",
       "      <td>4216.000000</td>\n",
       "    </tr>\n",
       "  </tbody>\n",
       "</table>\n",
       "</div>"
      ],
      "text/plain": [
       "          Min Delay       Min Gap\n",
       "count  60717.000000  60717.000000\n",
       "mean      12.771876     18.222475\n",
       "std       30.185644     34.504756\n",
       "min        0.000000      0.000000\n",
       "25%        5.000000      9.000000\n",
       "50%        6.000000     12.000000\n",
       "75%       12.000000     20.000000\n",
       "max     1400.000000   4216.000000"
      ]
     },
     "execution_count": 16,
     "metadata": {},
     "output_type": "execute_result"
    }
   ],
   "source": [
    "# further Analysis \n",
    "df.describe()"
   ]
  },
  {
   "cell_type": "code",
   "execution_count": 17,
   "metadata": {},
   "outputs": [
    {
     "data": {
      "text/plain": [
       "Report Date    datetime64[ns]\n",
       "Route                  object\n",
       "Time                   object\n",
       "Day                    object\n",
       "Location               object\n",
       "Incident               object\n",
       "Min Delay             float64\n",
       "Min Gap               float64\n",
       "Direction              object\n",
       "Vehicle                object\n",
       "dtype: object"
      ]
     },
     "execution_count": 17,
     "metadata": {},
     "output_type": "execute_result"
    }
   ],
   "source": [
    "df.dtypes"
   ]
  },
  {
   "cell_type": "code",
   "execution_count": 18,
   "metadata": {},
   "outputs": [
    {
     "data": {
      "text/html": [
       "<div>\n",
       "<style scoped>\n",
       "    .dataframe tbody tr th:only-of-type {\n",
       "        vertical-align: middle;\n",
       "    }\n",
       "\n",
       "    .dataframe tbody tr th {\n",
       "        vertical-align: top;\n",
       "    }\n",
       "\n",
       "    .dataframe thead th {\n",
       "        text-align: right;\n",
       "    }\n",
       "</style>\n",
       "<table border=\"1\" class=\"dataframe\">\n",
       "  <thead>\n",
       "    <tr style=\"text-align: right;\">\n",
       "      <th></th>\n",
       "      <th>Report Date</th>\n",
       "      <th>Route</th>\n",
       "      <th>Time</th>\n",
       "      <th>Day</th>\n",
       "      <th>Location</th>\n",
       "      <th>Incident</th>\n",
       "      <th>Min Delay</th>\n",
       "      <th>Min Gap</th>\n",
       "      <th>Direction</th>\n",
       "      <th>Vehicle</th>\n",
       "      <th>Report Date Time</th>\n",
       "    </tr>\n",
       "    <tr>\n",
       "      <th>Report Date Time</th>\n",
       "      <th></th>\n",
       "      <th></th>\n",
       "      <th></th>\n",
       "      <th></th>\n",
       "      <th></th>\n",
       "      <th></th>\n",
       "      <th></th>\n",
       "      <th></th>\n",
       "      <th></th>\n",
       "      <th></th>\n",
       "      <th></th>\n",
       "    </tr>\n",
       "  </thead>\n",
       "  <tbody>\n",
       "    <tr>\n",
       "      <th>2014-01-02 06:31:00</th>\n",
       "      <td>2014-01-02</td>\n",
       "      <td>505</td>\n",
       "      <td>06:31:00</td>\n",
       "      <td>Thursday</td>\n",
       "      <td>Dundas and Roncesvalles</td>\n",
       "      <td>Late Leaving Garage</td>\n",
       "      <td>4.0</td>\n",
       "      <td>8.0</td>\n",
       "      <td>E/B</td>\n",
       "      <td>4018.0</td>\n",
       "      <td>2014-01-02 06:31:00</td>\n",
       "    </tr>\n",
       "    <tr>\n",
       "      <th>2014-01-02 12:43:00</th>\n",
       "      <td>2014-01-02</td>\n",
       "      <td>504</td>\n",
       "      <td>12:43:00</td>\n",
       "      <td>Thursday</td>\n",
       "      <td>King and Shaw</td>\n",
       "      <td>Utilized Off Route</td>\n",
       "      <td>20.0</td>\n",
       "      <td>22.0</td>\n",
       "      <td>E/B</td>\n",
       "      <td>4128.0</td>\n",
       "      <td>2014-01-02 12:43:00</td>\n",
       "    </tr>\n",
       "    <tr>\n",
       "      <th>2014-01-02 14:01:00</th>\n",
       "      <td>2014-01-02</td>\n",
       "      <td>501</td>\n",
       "      <td>14:01:00</td>\n",
       "      <td>Thursday</td>\n",
       "      <td>Kingston road and Bingham</td>\n",
       "      <td>Held By</td>\n",
       "      <td>13.0</td>\n",
       "      <td>19.0</td>\n",
       "      <td>W/B</td>\n",
       "      <td>4016.0</td>\n",
       "      <td>2014-01-02 14:01:00</td>\n",
       "    </tr>\n",
       "    <tr>\n",
       "      <th>2014-01-02 14:22:00</th>\n",
       "      <td>2014-01-02</td>\n",
       "      <td>504</td>\n",
       "      <td>14:22:00</td>\n",
       "      <td>Thursday</td>\n",
       "      <td>King St. and Roncesvalles Ave.</td>\n",
       "      <td>Investigation</td>\n",
       "      <td>7.0</td>\n",
       "      <td>11.0</td>\n",
       "      <td>W/B</td>\n",
       "      <td>4175.0</td>\n",
       "      <td>2014-01-02 14:22:00</td>\n",
       "    </tr>\n",
       "    <tr>\n",
       "      <th>2014-01-02 16:42:00</th>\n",
       "      <td>2014-01-02</td>\n",
       "      <td>504</td>\n",
       "      <td>16:42:00</td>\n",
       "      <td>Thursday</td>\n",
       "      <td>King and Bathurst</td>\n",
       "      <td>Utilized Off Route</td>\n",
       "      <td>3.0</td>\n",
       "      <td>6.0</td>\n",
       "      <td>E/B</td>\n",
       "      <td>4080.0</td>\n",
       "      <td>2014-01-02 16:42:00</td>\n",
       "    </tr>\n",
       "  </tbody>\n",
       "</table>\n",
       "</div>"
      ],
      "text/plain": [
       "                    Report Date Route      Time       Day  \\\n",
       "Report Date Time                                            \n",
       "2014-01-02 06:31:00  2014-01-02   505  06:31:00  Thursday   \n",
       "2014-01-02 12:43:00  2014-01-02   504  12:43:00  Thursday   \n",
       "2014-01-02 14:01:00  2014-01-02   501  14:01:00  Thursday   \n",
       "2014-01-02 14:22:00  2014-01-02   504  14:22:00  Thursday   \n",
       "2014-01-02 16:42:00  2014-01-02   504  16:42:00  Thursday   \n",
       "\n",
       "                                           Location             Incident  \\\n",
       "Report Date Time                                                           \n",
       "2014-01-02 06:31:00         Dundas and Roncesvalles  Late Leaving Garage   \n",
       "2014-01-02 12:43:00                   King and Shaw   Utilized Off Route   \n",
       "2014-01-02 14:01:00       Kingston road and Bingham              Held By   \n",
       "2014-01-02 14:22:00  King St. and Roncesvalles Ave.        Investigation   \n",
       "2014-01-02 16:42:00               King and Bathurst   Utilized Off Route   \n",
       "\n",
       "                     Min Delay  Min Gap Direction Vehicle    Report Date Time  \n",
       "Report Date Time                                                               \n",
       "2014-01-02 06:31:00        4.0      8.0       E/B  4018.0 2014-01-02 06:31:00  \n",
       "2014-01-02 12:43:00       20.0     22.0       E/B  4128.0 2014-01-02 12:43:00  \n",
       "2014-01-02 14:01:00       13.0     19.0       W/B  4016.0 2014-01-02 14:01:00  \n",
       "2014-01-02 14:22:00        7.0     11.0       W/B  4175.0 2014-01-02 14:22:00  \n",
       "2014-01-02 16:42:00        3.0      6.0       E/B  4080.0 2014-01-02 16:42:00  "
      ]
     },
     "execution_count": 18,
     "metadata": {},
     "output_type": "execute_result"
    }
   ],
   "source": [
    "# create new column combing date + time (needed for resampling) and make it the index\n",
    "\n",
    "df['Report Date Time'] = pd.to_datetime(df['Report Date'].astype(str) + ' ' + df['Time'].astype(str))\n",
    "df.index = df['Report Date Time']\n",
    "df.head()"
   ]
  },
  {
   "cell_type": "markdown",
   "metadata": {},
   "source": [
    "# Create dataframes for delay-duration based forecasting\n",
    "- create a dataframe with just index and delay\n",
    "- resample to get mean by month in year"
   ]
  },
  {
   "cell_type": "code",
   "execution_count": 19,
   "metadata": {},
   "outputs": [
    {
     "data": {
      "text/html": [
       "<div>\n",
       "<style scoped>\n",
       "    .dataframe tbody tr th:only-of-type {\n",
       "        vertical-align: middle;\n",
       "    }\n",
       "\n",
       "    .dataframe tbody tr th {\n",
       "        vertical-align: top;\n",
       "    }\n",
       "\n",
       "    .dataframe thead th {\n",
       "        text-align: right;\n",
       "    }\n",
       "</style>\n",
       "<table border=\"1\" class=\"dataframe\">\n",
       "  <thead>\n",
       "    <tr style=\"text-align: right;\">\n",
       "      <th></th>\n",
       "      <th>Min Delay</th>\n",
       "    </tr>\n",
       "    <tr>\n",
       "      <th>Report Date Time</th>\n",
       "      <th></th>\n",
       "    </tr>\n",
       "  </thead>\n",
       "  <tbody>\n",
       "    <tr>\n",
       "      <th>2014-01-02 06:31:00</th>\n",
       "      <td>4.0</td>\n",
       "    </tr>\n",
       "    <tr>\n",
       "      <th>2014-01-02 12:43:00</th>\n",
       "      <td>20.0</td>\n",
       "    </tr>\n",
       "    <tr>\n",
       "      <th>2014-01-02 14:01:00</th>\n",
       "      <td>13.0</td>\n",
       "    </tr>\n",
       "    <tr>\n",
       "      <th>2014-01-02 14:22:00</th>\n",
       "      <td>7.0</td>\n",
       "    </tr>\n",
       "    <tr>\n",
       "      <th>2014-01-02 16:42:00</th>\n",
       "      <td>3.0</td>\n",
       "    </tr>\n",
       "  </tbody>\n",
       "</table>\n",
       "</div>"
      ],
      "text/plain": [
       "                     Min Delay\n",
       "Report Date Time              \n",
       "2014-01-02 06:31:00        4.0\n",
       "2014-01-02 12:43:00       20.0\n",
       "2014-01-02 14:01:00       13.0\n",
       "2014-01-02 14:22:00        7.0\n",
       "2014-01-02 16:42:00        3.0"
      ]
     },
     "execution_count": 19,
     "metadata": {},
     "output_type": "execute_result"
    }
   ],
   "source": [
    "# new = old[['A', 'C', 'D']].copy()\n",
    "# new dataframe with just Min Delay column\n",
    "dfstrip = df[['Min Delay']].copy()\n",
    "dfstrip.head()"
   ]
  },
  {
   "cell_type": "code",
   "execution_count": 20,
   "metadata": {},
   "outputs": [
    {
     "data": {
      "text/html": [
       "<div>\n",
       "<style scoped>\n",
       "    .dataframe tbody tr th:only-of-type {\n",
       "        vertical-align: middle;\n",
       "    }\n",
       "\n",
       "    .dataframe tbody tr th {\n",
       "        vertical-align: top;\n",
       "    }\n",
       "\n",
       "    .dataframe thead th {\n",
       "        text-align: right;\n",
       "    }\n",
       "</style>\n",
       "<table border=\"1\" class=\"dataframe\">\n",
       "  <thead>\n",
       "    <tr style=\"text-align: right;\">\n",
       "      <th></th>\n",
       "      <th>Min Delay</th>\n",
       "    </tr>\n",
       "    <tr>\n",
       "      <th>Report Date Time</th>\n",
       "      <th></th>\n",
       "    </tr>\n",
       "  </thead>\n",
       "  <tbody>\n",
       "    <tr>\n",
       "      <th>2014-01-31</th>\n",
       "      <td>7.862069</td>\n",
       "    </tr>\n",
       "    <tr>\n",
       "      <th>2014-02-28</th>\n",
       "      <td>14.117978</td>\n",
       "    </tr>\n",
       "    <tr>\n",
       "      <th>2014-03-31</th>\n",
       "      <td>12.580595</td>\n",
       "    </tr>\n",
       "    <tr>\n",
       "      <th>2014-04-30</th>\n",
       "      <td>12.624365</td>\n",
       "    </tr>\n",
       "    <tr>\n",
       "      <th>2014-05-31</th>\n",
       "      <td>12.280083</td>\n",
       "    </tr>\n",
       "  </tbody>\n",
       "</table>\n",
       "</div>"
      ],
      "text/plain": [
       "                  Min Delay\n",
       "Report Date Time           \n",
       "2014-01-31         7.862069\n",
       "2014-02-28        14.117978\n",
       "2014-03-31        12.580595\n",
       "2014-04-30        12.624365\n",
       "2014-05-31        12.280083"
      ]
     },
     "execution_count": 20,
     "metadata": {},
     "output_type": "execute_result"
    }
   ],
   "source": [
    "dfmonthav = dfstrip.resample('M').mean()\n",
    "dfmonthav.head()"
   ]
  },
  {
   "cell_type": "code",
   "execution_count": 21,
   "metadata": {},
   "outputs": [],
   "source": [
    "# df3['new'] = df3.index\n",
    "dfmonthav['Report Date Time'] = dfmonthav.index"
   ]
  },
  {
   "cell_type": "code",
   "execution_count": 22,
   "metadata": {},
   "outputs": [
    {
     "data": {
      "text/html": [
       "<div>\n",
       "<style scoped>\n",
       "    .dataframe tbody tr th:only-of-type {\n",
       "        vertical-align: middle;\n",
       "    }\n",
       "\n",
       "    .dataframe tbody tr th {\n",
       "        vertical-align: top;\n",
       "    }\n",
       "\n",
       "    .dataframe thead th {\n",
       "        text-align: right;\n",
       "    }\n",
       "</style>\n",
       "<table border=\"1\" class=\"dataframe\">\n",
       "  <thead>\n",
       "    <tr style=\"text-align: right;\">\n",
       "      <th></th>\n",
       "      <th>Min Delay</th>\n",
       "      <th>Report Date Time</th>\n",
       "    </tr>\n",
       "    <tr>\n",
       "      <th>Report Date Time</th>\n",
       "      <th></th>\n",
       "      <th></th>\n",
       "    </tr>\n",
       "  </thead>\n",
       "  <tbody>\n",
       "    <tr>\n",
       "      <th>2018-03-31</th>\n",
       "      <td>15.063849</td>\n",
       "      <td>2018-03-31</td>\n",
       "    </tr>\n",
       "    <tr>\n",
       "      <th>2018-04-30</th>\n",
       "      <td>10.744763</td>\n",
       "      <td>2018-04-30</td>\n",
       "    </tr>\n",
       "    <tr>\n",
       "      <th>2018-05-31</th>\n",
       "      <td>9.803109</td>\n",
       "      <td>2018-05-31</td>\n",
       "    </tr>\n",
       "    <tr>\n",
       "      <th>2018-06-30</th>\n",
       "      <td>9.754068</td>\n",
       "      <td>2018-06-30</td>\n",
       "    </tr>\n",
       "    <tr>\n",
       "      <th>2018-07-31</th>\n",
       "      <td>11.688006</td>\n",
       "      <td>2018-07-31</td>\n",
       "    </tr>\n",
       "  </tbody>\n",
       "</table>\n",
       "</div>"
      ],
      "text/plain": [
       "                  Min Delay Report Date Time\n",
       "Report Date Time                            \n",
       "2018-03-31        15.063849       2018-03-31\n",
       "2018-04-30        10.744763       2018-04-30\n",
       "2018-05-31         9.803109       2018-05-31\n",
       "2018-06-30         9.754068       2018-06-30\n",
       "2018-07-31        11.688006       2018-07-31"
      ]
     },
     "execution_count": 22,
     "metadata": {},
     "output_type": "execute_result"
    }
   ],
   "source": [
    "dfmonthav.tail()"
   ]
  },
  {
   "cell_type": "markdown",
   "metadata": {},
   "source": [
    "# Create dataframe for delay count based forecasting\n"
   ]
  },
  {
   "cell_type": "code",
   "execution_count": 23,
   "metadata": {},
   "outputs": [
    {
     "data": {
      "text/html": [
       "<div>\n",
       "<style scoped>\n",
       "    .dataframe tbody tr th:only-of-type {\n",
       "        vertical-align: middle;\n",
       "    }\n",
       "\n",
       "    .dataframe tbody tr th {\n",
       "        vertical-align: top;\n",
       "    }\n",
       "\n",
       "    .dataframe thead th {\n",
       "        text-align: right;\n",
       "    }\n",
       "</style>\n",
       "<table border=\"1\" class=\"dataframe\">\n",
       "  <thead>\n",
       "    <tr style=\"text-align: right;\">\n",
       "      <th></th>\n",
       "      <th>Report Date</th>\n",
       "      <th>Route</th>\n",
       "      <th>Time</th>\n",
       "      <th>Day</th>\n",
       "      <th>Location</th>\n",
       "      <th>Incident</th>\n",
       "      <th>Min Delay</th>\n",
       "      <th>Min Gap</th>\n",
       "      <th>Direction</th>\n",
       "      <th>Vehicle</th>\n",
       "      <th>Report Date Time</th>\n",
       "    </tr>\n",
       "    <tr>\n",
       "      <th>Report Date Time</th>\n",
       "      <th></th>\n",
       "      <th></th>\n",
       "      <th></th>\n",
       "      <th></th>\n",
       "      <th></th>\n",
       "      <th></th>\n",
       "      <th></th>\n",
       "      <th></th>\n",
       "      <th></th>\n",
       "      <th></th>\n",
       "      <th></th>\n",
       "    </tr>\n",
       "  </thead>\n",
       "  <tbody>\n",
       "    <tr>\n",
       "      <th>2014-01-02 06:31:00</th>\n",
       "      <td>2014-01-02</td>\n",
       "      <td>505</td>\n",
       "      <td>06:31:00</td>\n",
       "      <td>Thursday</td>\n",
       "      <td>Dundas and Roncesvalles</td>\n",
       "      <td>Late Leaving Garage</td>\n",
       "      <td>4.0</td>\n",
       "      <td>8.0</td>\n",
       "      <td>E/B</td>\n",
       "      <td>4018.0</td>\n",
       "      <td>2014-01-02 06:31:00</td>\n",
       "    </tr>\n",
       "    <tr>\n",
       "      <th>2014-01-02 12:43:00</th>\n",
       "      <td>2014-01-02</td>\n",
       "      <td>504</td>\n",
       "      <td>12:43:00</td>\n",
       "      <td>Thursday</td>\n",
       "      <td>King and Shaw</td>\n",
       "      <td>Utilized Off Route</td>\n",
       "      <td>20.0</td>\n",
       "      <td>22.0</td>\n",
       "      <td>E/B</td>\n",
       "      <td>4128.0</td>\n",
       "      <td>2014-01-02 12:43:00</td>\n",
       "    </tr>\n",
       "    <tr>\n",
       "      <th>2014-01-02 14:01:00</th>\n",
       "      <td>2014-01-02</td>\n",
       "      <td>501</td>\n",
       "      <td>14:01:00</td>\n",
       "      <td>Thursday</td>\n",
       "      <td>Kingston road and Bingham</td>\n",
       "      <td>Held By</td>\n",
       "      <td>13.0</td>\n",
       "      <td>19.0</td>\n",
       "      <td>W/B</td>\n",
       "      <td>4016.0</td>\n",
       "      <td>2014-01-02 14:01:00</td>\n",
       "    </tr>\n",
       "    <tr>\n",
       "      <th>2014-01-02 14:22:00</th>\n",
       "      <td>2014-01-02</td>\n",
       "      <td>504</td>\n",
       "      <td>14:22:00</td>\n",
       "      <td>Thursday</td>\n",
       "      <td>King St. and Roncesvalles Ave.</td>\n",
       "      <td>Investigation</td>\n",
       "      <td>7.0</td>\n",
       "      <td>11.0</td>\n",
       "      <td>W/B</td>\n",
       "      <td>4175.0</td>\n",
       "      <td>2014-01-02 14:22:00</td>\n",
       "    </tr>\n",
       "    <tr>\n",
       "      <th>2014-01-02 16:42:00</th>\n",
       "      <td>2014-01-02</td>\n",
       "      <td>504</td>\n",
       "      <td>16:42:00</td>\n",
       "      <td>Thursday</td>\n",
       "      <td>King and Bathurst</td>\n",
       "      <td>Utilized Off Route</td>\n",
       "      <td>3.0</td>\n",
       "      <td>6.0</td>\n",
       "      <td>E/B</td>\n",
       "      <td>4080.0</td>\n",
       "      <td>2014-01-02 16:42:00</td>\n",
       "    </tr>\n",
       "  </tbody>\n",
       "</table>\n",
       "</div>"
      ],
      "text/plain": [
       "                    Report Date Route      Time       Day  \\\n",
       "Report Date Time                                            \n",
       "2014-01-02 06:31:00  2014-01-02   505  06:31:00  Thursday   \n",
       "2014-01-02 12:43:00  2014-01-02   504  12:43:00  Thursday   \n",
       "2014-01-02 14:01:00  2014-01-02   501  14:01:00  Thursday   \n",
       "2014-01-02 14:22:00  2014-01-02   504  14:22:00  Thursday   \n",
       "2014-01-02 16:42:00  2014-01-02   504  16:42:00  Thursday   \n",
       "\n",
       "                                           Location             Incident  \\\n",
       "Report Date Time                                                           \n",
       "2014-01-02 06:31:00         Dundas and Roncesvalles  Late Leaving Garage   \n",
       "2014-01-02 12:43:00                   King and Shaw   Utilized Off Route   \n",
       "2014-01-02 14:01:00       Kingston road and Bingham              Held By   \n",
       "2014-01-02 14:22:00  King St. and Roncesvalles Ave.        Investigation   \n",
       "2014-01-02 16:42:00               King and Bathurst   Utilized Off Route   \n",
       "\n",
       "                     Min Delay  Min Gap Direction Vehicle    Report Date Time  \n",
       "Report Date Time                                                               \n",
       "2014-01-02 06:31:00        4.0      8.0       E/B  4018.0 2014-01-02 06:31:00  \n",
       "2014-01-02 12:43:00       20.0     22.0       E/B  4128.0 2014-01-02 12:43:00  \n",
       "2014-01-02 14:01:00       13.0     19.0       W/B  4016.0 2014-01-02 14:01:00  \n",
       "2014-01-02 14:22:00        7.0     11.0       W/B  4175.0 2014-01-02 14:22:00  \n",
       "2014-01-02 16:42:00        3.0      6.0       E/B  4080.0 2014-01-02 16:42:00  "
      ]
     },
     "execution_count": 23,
     "metadata": {},
     "output_type": "execute_result"
    }
   ],
   "source": [
    "df.head()"
   ]
  },
  {
   "cell_type": "code",
   "execution_count": 24,
   "metadata": {},
   "outputs": [
    {
     "data": {
      "text/html": [
       "<div>\n",
       "<style scoped>\n",
       "    .dataframe tbody tr th:only-of-type {\n",
       "        vertical-align: middle;\n",
       "    }\n",
       "\n",
       "    .dataframe tbody tr th {\n",
       "        vertical-align: top;\n",
       "    }\n",
       "\n",
       "    .dataframe thead th {\n",
       "        text-align: right;\n",
       "    }\n",
       "</style>\n",
       "<table border=\"1\" class=\"dataframe\">\n",
       "  <thead>\n",
       "    <tr style=\"text-align: right;\">\n",
       "      <th></th>\n",
       "      <th>Min Delay</th>\n",
       "    </tr>\n",
       "    <tr>\n",
       "      <th>Report Date Time</th>\n",
       "      <th></th>\n",
       "    </tr>\n",
       "  </thead>\n",
       "  <tbody>\n",
       "    <tr>\n",
       "      <th>2014-01-02 06:31:00</th>\n",
       "      <td>4.0</td>\n",
       "    </tr>\n",
       "    <tr>\n",
       "      <th>2014-01-02 12:43:00</th>\n",
       "      <td>20.0</td>\n",
       "    </tr>\n",
       "    <tr>\n",
       "      <th>2014-01-02 14:01:00</th>\n",
       "      <td>13.0</td>\n",
       "    </tr>\n",
       "    <tr>\n",
       "      <th>2014-01-02 14:22:00</th>\n",
       "      <td>7.0</td>\n",
       "    </tr>\n",
       "    <tr>\n",
       "      <th>2014-01-02 16:42:00</th>\n",
       "      <td>3.0</td>\n",
       "    </tr>\n",
       "  </tbody>\n",
       "</table>\n",
       "</div>"
      ],
      "text/plain": [
       "                     Min Delay\n",
       "Report Date Time              \n",
       "2014-01-02 06:31:00        4.0\n",
       "2014-01-02 12:43:00       20.0\n",
       "2014-01-02 14:01:00       13.0\n",
       "2014-01-02 14:22:00        7.0\n",
       "2014-01-02 16:42:00        3.0"
      ]
     },
     "execution_count": 24,
     "metadata": {},
     "output_type": "execute_result"
    }
   ],
   "source": [
    "dfstrip.head()"
   ]
  },
  {
   "cell_type": "code",
   "execution_count": 25,
   "metadata": {},
   "outputs": [
    {
     "data": {
      "text/html": [
       "<div>\n",
       "<style scoped>\n",
       "    .dataframe tbody tr th:only-of-type {\n",
       "        vertical-align: middle;\n",
       "    }\n",
       "\n",
       "    .dataframe tbody tr th {\n",
       "        vertical-align: top;\n",
       "    }\n",
       "\n",
       "    .dataframe thead th {\n",
       "        text-align: right;\n",
       "    }\n",
       "</style>\n",
       "<table border=\"1\" class=\"dataframe\">\n",
       "  <thead>\n",
       "    <tr style=\"text-align: right;\">\n",
       "      <th></th>\n",
       "      <th>Delay Count</th>\n",
       "    </tr>\n",
       "    <tr>\n",
       "      <th>Report Date Time</th>\n",
       "      <th></th>\n",
       "    </tr>\n",
       "  </thead>\n",
       "  <tbody>\n",
       "    <tr>\n",
       "      <th>2014-01-31</th>\n",
       "      <td>319</td>\n",
       "    </tr>\n",
       "    <tr>\n",
       "      <th>2014-02-28</th>\n",
       "      <td>178</td>\n",
       "    </tr>\n",
       "    <tr>\n",
       "      <th>2014-03-31</th>\n",
       "      <td>1278</td>\n",
       "    </tr>\n",
       "    <tr>\n",
       "      <th>2014-04-30</th>\n",
       "      <td>1182</td>\n",
       "    </tr>\n",
       "    <tr>\n",
       "      <th>2014-05-31</th>\n",
       "      <td>964</td>\n",
       "    </tr>\n",
       "  </tbody>\n",
       "</table>\n",
       "</div>"
      ],
      "text/plain": [
       "                  Delay Count\n",
       "Report Date Time             \n",
       "2014-01-31                319\n",
       "2014-02-28                178\n",
       "2014-03-31               1278\n",
       "2014-04-30               1182\n",
       "2014-05-31                964"
      ]
     },
     "execution_count": 25,
     "metadata": {},
     "output_type": "execute_result"
    }
   ],
   "source": [
    "dfmonthcount = dfstrip.resample('M').count()\n",
    "# df = df.rename(columns={'oldName1': 'newName1', 'oldName2': 'newName2'})\n",
    "dfmonthcount = dfmonthcount.rename(columns={'Min Delay':'Delay Count'})\n",
    "dfmonthcount.head()"
   ]
  },
  {
   "cell_type": "code",
   "execution_count": 26,
   "metadata": {},
   "outputs": [
    {
     "data": {
      "text/html": [
       "<div>\n",
       "<style scoped>\n",
       "    .dataframe tbody tr th:only-of-type {\n",
       "        vertical-align: middle;\n",
       "    }\n",
       "\n",
       "    .dataframe tbody tr th {\n",
       "        vertical-align: top;\n",
       "    }\n",
       "\n",
       "    .dataframe thead th {\n",
       "        text-align: right;\n",
       "    }\n",
       "</style>\n",
       "<table border=\"1\" class=\"dataframe\">\n",
       "  <thead>\n",
       "    <tr style=\"text-align: right;\">\n",
       "      <th></th>\n",
       "      <th>Delay Count</th>\n",
       "      <th>Report Date Time</th>\n",
       "    </tr>\n",
       "    <tr>\n",
       "      <th>Report Date Time</th>\n",
       "      <th></th>\n",
       "      <th></th>\n",
       "    </tr>\n",
       "  </thead>\n",
       "  <tbody>\n",
       "    <tr>\n",
       "      <th>2014-01-31</th>\n",
       "      <td>319</td>\n",
       "      <td>2014-01-31</td>\n",
       "    </tr>\n",
       "    <tr>\n",
       "      <th>2014-02-28</th>\n",
       "      <td>178</td>\n",
       "      <td>2014-02-28</td>\n",
       "    </tr>\n",
       "    <tr>\n",
       "      <th>2014-03-31</th>\n",
       "      <td>1278</td>\n",
       "      <td>2014-03-31</td>\n",
       "    </tr>\n",
       "    <tr>\n",
       "      <th>2014-04-30</th>\n",
       "      <td>1182</td>\n",
       "      <td>2014-04-30</td>\n",
       "    </tr>\n",
       "    <tr>\n",
       "      <th>2014-05-31</th>\n",
       "      <td>964</td>\n",
       "      <td>2014-05-31</td>\n",
       "    </tr>\n",
       "  </tbody>\n",
       "</table>\n",
       "</div>"
      ],
      "text/plain": [
       "                  Delay Count Report Date Time\n",
       "Report Date Time                              \n",
       "2014-01-31                319       2014-01-31\n",
       "2014-02-28                178       2014-02-28\n",
       "2014-03-31               1278       2014-03-31\n",
       "2014-04-30               1182       2014-04-30\n",
       "2014-05-31                964       2014-05-31"
      ]
     },
     "execution_count": 26,
     "metadata": {},
     "output_type": "execute_result"
    }
   ],
   "source": [
    "dfmonthcount['Report Date Time'] = dfmonthcount.index\n",
    "dfmonthcount.head()"
   ]
  },
  {
   "cell_type": "code",
   "execution_count": 27,
   "metadata": {},
   "outputs": [
    {
     "data": {
      "text/html": [
       "<div>\n",
       "<style scoped>\n",
       "    .dataframe tbody tr th:only-of-type {\n",
       "        vertical-align: middle;\n",
       "    }\n",
       "\n",
       "    .dataframe tbody tr th {\n",
       "        vertical-align: top;\n",
       "    }\n",
       "\n",
       "    .dataframe thead th {\n",
       "        text-align: right;\n",
       "    }\n",
       "</style>\n",
       "<table border=\"1\" class=\"dataframe\">\n",
       "  <thead>\n",
       "    <tr style=\"text-align: right;\">\n",
       "      <th></th>\n",
       "      <th>Min Delay</th>\n",
       "      <th>Report Date Time_left</th>\n",
       "      <th>Delay Count</th>\n",
       "      <th>Report Date Time_right</th>\n",
       "    </tr>\n",
       "    <tr>\n",
       "      <th>Report Date Time</th>\n",
       "      <th></th>\n",
       "      <th></th>\n",
       "      <th></th>\n",
       "      <th></th>\n",
       "    </tr>\n",
       "  </thead>\n",
       "  <tbody>\n",
       "    <tr>\n",
       "      <th>2014-01-31</th>\n",
       "      <td>7.862069</td>\n",
       "      <td>2014-01-31</td>\n",
       "      <td>319</td>\n",
       "      <td>2014-01-31</td>\n",
       "    </tr>\n",
       "    <tr>\n",
       "      <th>2014-02-28</th>\n",
       "      <td>14.117978</td>\n",
       "      <td>2014-02-28</td>\n",
       "      <td>178</td>\n",
       "      <td>2014-02-28</td>\n",
       "    </tr>\n",
       "    <tr>\n",
       "      <th>2014-03-31</th>\n",
       "      <td>12.580595</td>\n",
       "      <td>2014-03-31</td>\n",
       "      <td>1278</td>\n",
       "      <td>2014-03-31</td>\n",
       "    </tr>\n",
       "    <tr>\n",
       "      <th>2014-04-30</th>\n",
       "      <td>12.624365</td>\n",
       "      <td>2014-04-30</td>\n",
       "      <td>1182</td>\n",
       "      <td>2014-04-30</td>\n",
       "    </tr>\n",
       "    <tr>\n",
       "      <th>2014-05-31</th>\n",
       "      <td>12.280083</td>\n",
       "      <td>2014-05-31</td>\n",
       "      <td>964</td>\n",
       "      <td>2014-05-31</td>\n",
       "    </tr>\n",
       "  </tbody>\n",
       "</table>\n",
       "</div>"
      ],
      "text/plain": [
       "                  Min Delay Report Date Time_left  Delay Count  \\\n",
       "Report Date Time                                                 \n",
       "2014-01-31         7.862069            2014-01-31          319   \n",
       "2014-02-28        14.117978            2014-02-28          178   \n",
       "2014-03-31        12.580595            2014-03-31         1278   \n",
       "2014-04-30        12.624365            2014-04-30         1182   \n",
       "2014-05-31        12.280083            2014-05-31          964   \n",
       "\n",
       "                 Report Date Time_right  \n",
       "Report Date Time                         \n",
       "2014-01-31                   2014-01-31  \n",
       "2014-02-28                   2014-02-28  \n",
       "2014-03-31                   2014-03-31  \n",
       "2014-04-30                   2014-04-30  \n",
       "2014-05-31                   2014-05-31  "
      ]
     },
     "execution_count": 27,
     "metadata": {},
     "output_type": "execute_result"
    }
   ],
   "source": [
    "# merged_data = merged_data.join(dm_cases.set_index('CASE_NUMBER'), on = 'CASE_NUMBER')\n",
    "dfmonthav = dfmonthav.join(dfmonthcount, on='Report Date Time',lsuffix='_left', rsuffix='_right')\n",
    "dfmonthav.head()"
   ]
  },
  {
   "cell_type": "code",
   "execution_count": 28,
   "metadata": {},
   "outputs": [
    {
     "data": {
      "text/html": [
       "<div>\n",
       "<style scoped>\n",
       "    .dataframe tbody tr th:only-of-type {\n",
       "        vertical-align: middle;\n",
       "    }\n",
       "\n",
       "    .dataframe tbody tr th {\n",
       "        vertical-align: top;\n",
       "    }\n",
       "\n",
       "    .dataframe thead th {\n",
       "        text-align: right;\n",
       "    }\n",
       "</style>\n",
       "<table border=\"1\" class=\"dataframe\">\n",
       "  <thead>\n",
       "    <tr style=\"text-align: right;\">\n",
       "      <th></th>\n",
       "      <th>Min Delay</th>\n",
       "      <th>Report Date Time_left</th>\n",
       "      <th>Delay Count</th>\n",
       "      <th>Report Date Time_right</th>\n",
       "    </tr>\n",
       "    <tr>\n",
       "      <th>Report Date Time</th>\n",
       "      <th></th>\n",
       "      <th></th>\n",
       "      <th></th>\n",
       "      <th></th>\n",
       "    </tr>\n",
       "  </thead>\n",
       "  <tbody>\n",
       "    <tr>\n",
       "      <th>2014-01-31</th>\n",
       "      <td>7.862069</td>\n",
       "      <td>2014-01-31</td>\n",
       "      <td>319</td>\n",
       "      <td>2014-01-31</td>\n",
       "    </tr>\n",
       "    <tr>\n",
       "      <th>2014-02-28</th>\n",
       "      <td>14.117978</td>\n",
       "      <td>2014-02-28</td>\n",
       "      <td>178</td>\n",
       "      <td>2014-02-28</td>\n",
       "    </tr>\n",
       "    <tr>\n",
       "      <th>2014-03-31</th>\n",
       "      <td>12.580595</td>\n",
       "      <td>2014-03-31</td>\n",
       "      <td>1278</td>\n",
       "      <td>2014-03-31</td>\n",
       "    </tr>\n",
       "    <tr>\n",
       "      <th>2014-04-30</th>\n",
       "      <td>12.624365</td>\n",
       "      <td>2014-04-30</td>\n",
       "      <td>1182</td>\n",
       "      <td>2014-04-30</td>\n",
       "    </tr>\n",
       "    <tr>\n",
       "      <th>2014-05-31</th>\n",
       "      <td>12.280083</td>\n",
       "      <td>2014-05-31</td>\n",
       "      <td>964</td>\n",
       "      <td>2014-05-31</td>\n",
       "    </tr>\n",
       "  </tbody>\n",
       "</table>\n",
       "</div>"
      ],
      "text/plain": [
       "                  Min Delay Report Date Time_left  Delay Count  \\\n",
       "Report Date Time                                                 \n",
       "2014-01-31         7.862069            2014-01-31          319   \n",
       "2014-02-28        14.117978            2014-02-28          178   \n",
       "2014-03-31        12.580595            2014-03-31         1278   \n",
       "2014-04-30        12.624365            2014-04-30         1182   \n",
       "2014-05-31        12.280083            2014-05-31          964   \n",
       "\n",
       "                 Report Date Time_right  \n",
       "Report Date Time                         \n",
       "2014-01-31                   2014-01-31  \n",
       "2014-02-28                   2014-02-28  \n",
       "2014-03-31                   2014-03-31  \n",
       "2014-04-30                   2014-04-30  \n",
       "2014-05-31                   2014-05-31  "
      ]
     },
     "execution_count": 28,
     "metadata": {},
     "output_type": "execute_result"
    }
   ],
   "source": [
    "dfmonthav.head()"
   ]
  },
  {
   "cell_type": "code",
   "execution_count": 29,
   "metadata": {},
   "outputs": [
    {
     "data": {
      "text/html": [
       "<div>\n",
       "<style scoped>\n",
       "    .dataframe tbody tr th:only-of-type {\n",
       "        vertical-align: middle;\n",
       "    }\n",
       "\n",
       "    .dataframe tbody tr th {\n",
       "        vertical-align: top;\n",
       "    }\n",
       "\n",
       "    .dataframe thead th {\n",
       "        text-align: right;\n",
       "    }\n",
       "</style>\n",
       "<table border=\"1\" class=\"dataframe\">\n",
       "  <thead>\n",
       "    <tr style=\"text-align: right;\">\n",
       "      <th></th>\n",
       "      <th>Min Delay</th>\n",
       "      <th>Report Date Time</th>\n",
       "      <th>Delay Count</th>\n",
       "      <th>Report Date Time_right</th>\n",
       "    </tr>\n",
       "    <tr>\n",
       "      <th>Report Date Time</th>\n",
       "      <th></th>\n",
       "      <th></th>\n",
       "      <th></th>\n",
       "      <th></th>\n",
       "    </tr>\n",
       "  </thead>\n",
       "  <tbody>\n",
       "    <tr>\n",
       "      <th>2014-01-31</th>\n",
       "      <td>7.862069</td>\n",
       "      <td>2014-01-31</td>\n",
       "      <td>319</td>\n",
       "      <td>2014-01-31</td>\n",
       "    </tr>\n",
       "    <tr>\n",
       "      <th>2014-02-28</th>\n",
       "      <td>14.117978</td>\n",
       "      <td>2014-02-28</td>\n",
       "      <td>178</td>\n",
       "      <td>2014-02-28</td>\n",
       "    </tr>\n",
       "    <tr>\n",
       "      <th>2014-03-31</th>\n",
       "      <td>12.580595</td>\n",
       "      <td>2014-03-31</td>\n",
       "      <td>1278</td>\n",
       "      <td>2014-03-31</td>\n",
       "    </tr>\n",
       "    <tr>\n",
       "      <th>2014-04-30</th>\n",
       "      <td>12.624365</td>\n",
       "      <td>2014-04-30</td>\n",
       "      <td>1182</td>\n",
       "      <td>2014-04-30</td>\n",
       "    </tr>\n",
       "    <tr>\n",
       "      <th>2014-05-31</th>\n",
       "      <td>12.280083</td>\n",
       "      <td>2014-05-31</td>\n",
       "      <td>964</td>\n",
       "      <td>2014-05-31</td>\n",
       "    </tr>\n",
       "  </tbody>\n",
       "</table>\n",
       "</div>"
      ],
      "text/plain": [
       "                  Min Delay Report Date Time  Delay Count  \\\n",
       "Report Date Time                                            \n",
       "2014-01-31         7.862069       2014-01-31          319   \n",
       "2014-02-28        14.117978       2014-02-28          178   \n",
       "2014-03-31        12.580595       2014-03-31         1278   \n",
       "2014-04-30        12.624365       2014-04-30         1182   \n",
       "2014-05-31        12.280083       2014-05-31          964   \n",
       "\n",
       "                 Report Date Time_right  \n",
       "Report Date Time                         \n",
       "2014-01-31                   2014-01-31  \n",
       "2014-02-28                   2014-02-28  \n",
       "2014-03-31                   2014-03-31  \n",
       "2014-04-30                   2014-04-30  \n",
       "2014-05-31                   2014-05-31  "
      ]
     },
     "execution_count": 29,
     "metadata": {},
     "output_type": "execute_result"
    }
   ],
   "source": [
    "dfmonthav = dfmonthav.rename(columns={'Report Date Time_left':'Report Date Time'})\n",
    "dfmonthav.drop(['Report Date Time_right'],axis=1)\n",
    "dfmonthav.head()"
   ]
  },
  {
   "cell_type": "code",
   "execution_count": 30,
   "metadata": {},
   "outputs": [
    {
     "data": {
      "text/html": [
       "<div>\n",
       "<style scoped>\n",
       "    .dataframe tbody tr th:only-of-type {\n",
       "        vertical-align: middle;\n",
       "    }\n",
       "\n",
       "    .dataframe tbody tr th {\n",
       "        vertical-align: top;\n",
       "    }\n",
       "\n",
       "    .dataframe thead th {\n",
       "        text-align: right;\n",
       "    }\n",
       "</style>\n",
       "<table border=\"1\" class=\"dataframe\">\n",
       "  <thead>\n",
       "    <tr style=\"text-align: right;\">\n",
       "      <th></th>\n",
       "      <th>Min Delay</th>\n",
       "      <th>Report Date Time</th>\n",
       "      <th>Delay Count</th>\n",
       "      <th>Report Date Time_right</th>\n",
       "    </tr>\n",
       "    <tr>\n",
       "      <th>Report Date Time</th>\n",
       "      <th></th>\n",
       "      <th></th>\n",
       "      <th></th>\n",
       "      <th></th>\n",
       "    </tr>\n",
       "  </thead>\n",
       "  <tbody>\n",
       "    <tr>\n",
       "      <th>2014-01-31</th>\n",
       "      <td>7.862069</td>\n",
       "      <td>2014-01-31</td>\n",
       "      <td>319</td>\n",
       "      <td>2014-01-31</td>\n",
       "    </tr>\n",
       "    <tr>\n",
       "      <th>2014-02-28</th>\n",
       "      <td>14.117978</td>\n",
       "      <td>2014-02-28</td>\n",
       "      <td>178</td>\n",
       "      <td>2014-02-28</td>\n",
       "    </tr>\n",
       "    <tr>\n",
       "      <th>2014-03-31</th>\n",
       "      <td>12.580595</td>\n",
       "      <td>2014-03-31</td>\n",
       "      <td>1278</td>\n",
       "      <td>2014-03-31</td>\n",
       "    </tr>\n",
       "    <tr>\n",
       "      <th>2014-04-30</th>\n",
       "      <td>12.624365</td>\n",
       "      <td>2014-04-30</td>\n",
       "      <td>1182</td>\n",
       "      <td>2014-04-30</td>\n",
       "    </tr>\n",
       "    <tr>\n",
       "      <th>2014-05-31</th>\n",
       "      <td>12.280083</td>\n",
       "      <td>2014-05-31</td>\n",
       "      <td>964</td>\n",
       "      <td>2014-05-31</td>\n",
       "    </tr>\n",
       "  </tbody>\n",
       "</table>\n",
       "</div>"
      ],
      "text/plain": [
       "                  Min Delay Report Date Time  Delay Count  \\\n",
       "Report Date Time                                            \n",
       "2014-01-31         7.862069       2014-01-31          319   \n",
       "2014-02-28        14.117978       2014-02-28          178   \n",
       "2014-03-31        12.580595       2014-03-31         1278   \n",
       "2014-04-30        12.624365       2014-04-30         1182   \n",
       "2014-05-31        12.280083       2014-05-31          964   \n",
       "\n",
       "                 Report Date Time_right  \n",
       "Report Date Time                         \n",
       "2014-01-31                   2014-01-31  \n",
       "2014-02-28                   2014-02-28  \n",
       "2014-03-31                   2014-03-31  \n",
       "2014-04-30                   2014-04-30  \n",
       "2014-05-31                   2014-05-31  "
      ]
     },
     "execution_count": 30,
     "metadata": {},
     "output_type": "execute_result"
    }
   ],
   "source": [
    "dfmonthav.drop(['Report Date Time_right'],axis=1)\n",
    "dfmonthav.head()"
   ]
  },
  {
   "cell_type": "code",
   "execution_count": 31,
   "metadata": {},
   "outputs": [
    {
     "data": {
      "text/plain": [
       "<matplotlib.axes._subplots.AxesSubplot at 0x7fc364ca0b38>"
      ]
     },
     "execution_count": 31,
     "metadata": {},
     "output_type": "execute_result"
    },
    {
     "data": {
      "image/png": "[encoded data removed]",
      "text/plain": [
       "<matplotlib.figure.Figure at 0x7fc3645b6390>"
      ]
     },
     "metadata": {},
     "output_type": "display_data"
    }
   ],
   "source": [
    "dfmonthav['Min Delay'].plot(legend=True)\n",
    "# df.B.plot(secondary_y=True, style='g')\n",
    "dfmonthav['Delay Count'].plot(secondary_y=True, style='g',legend=True)"
   ]
  },
  {
   "cell_type": "code",
   "execution_count": 32,
   "metadata": {
    "scrolled": true
   },
   "outputs": [],
   "source": [
    "#ax.set_ylabel('Average Delay')\n",
    "#ax.right_ax.set_ylabel('Number of delays')\n",
    "plt.rcParams[\"figure.figsize\"] = [8,4]\n",
    "plt.show()"
   ]
  },
  {
   "cell_type": "markdown",
   "metadata": {},
   "source": [
    "# Time Series Forecasting\n",
    "**Trend**:- As the name suggests trend depicts the variation in the output as time increases.It is often non-linear. Sometimes we will refer to trend as “changing direction” when it might go from an increasing trend to a decreasing trend.\n",
    "\n",
    "**Level**:- It basically depicts baseline value for the time series.\n",
    "\n",
    "**Seasonal**:- As its name depicts it shows the repeated pattern over time. In layman terms, it shows the seasonal variation of data over time.\n",
    "\n",
    "**Noise**:- It is basically external noises that vary the data randomly."
   ]
  },
  {
   "cell_type": "code",
   "execution_count": 33,
   "metadata": {},
   "outputs": [
    {
     "name": "stdout",
     "output_type": "stream",
     "text": [
      "<class 'pandas.core.frame.DataFrame'>\n",
      "DatetimeIndex: 55 entries, 2014-01-31 to 2018-07-31\n",
      "Freq: M\n",
      "Data columns (total 4 columns):\n",
      "Min Delay                 55 non-null float64\n",
      "Report Date Time          55 non-null datetime64[ns]\n",
      "Delay Count               55 non-null int64\n",
      "Report Date Time_right    55 non-null datetime64[ns]\n",
      "dtypes: datetime64[ns](2), float64(1), int64(1)\n",
      "memory usage: 2.1 KB\n"
     ]
    }
   ],
   "source": [
    "dfmonthav.info()"
   ]
  },
  {
   "cell_type": "code",
   "execution_count": 34,
   "metadata": {},
   "outputs": [
    {
     "data": {
      "text/html": [
       "<div>\n",
       "<style scoped>\n",
       "    .dataframe tbody tr th:only-of-type {\n",
       "        vertical-align: middle;\n",
       "    }\n",
       "\n",
       "    .dataframe tbody tr th {\n",
       "        vertical-align: top;\n",
       "    }\n",
       "\n",
       "    .dataframe thead th {\n",
       "        text-align: right;\n",
       "    }\n",
       "</style>\n",
       "<table border=\"1\" class=\"dataframe\">\n",
       "  <thead>\n",
       "    <tr style=\"text-align: right;\">\n",
       "      <th></th>\n",
       "      <th>Min Delay</th>\n",
       "      <th>Report Date Time</th>\n",
       "      <th>Delay Count</th>\n",
       "      <th>Report Date Time_right</th>\n",
       "      <th>Month</th>\n",
       "    </tr>\n",
       "    <tr>\n",
       "      <th>Report Date Time</th>\n",
       "      <th></th>\n",
       "      <th></th>\n",
       "      <th></th>\n",
       "      <th></th>\n",
       "      <th></th>\n",
       "    </tr>\n",
       "  </thead>\n",
       "  <tbody>\n",
       "    <tr>\n",
       "      <th>2014-01-31</th>\n",
       "      <td>7.862069</td>\n",
       "      <td>2014-01-31</td>\n",
       "      <td>319</td>\n",
       "      <td>2014-01-31</td>\n",
       "      <td>1</td>\n",
       "    </tr>\n",
       "    <tr>\n",
       "      <th>2014-02-28</th>\n",
       "      <td>14.117978</td>\n",
       "      <td>2014-02-28</td>\n",
       "      <td>178</td>\n",
       "      <td>2014-02-28</td>\n",
       "      <td>2</td>\n",
       "    </tr>\n",
       "    <tr>\n",
       "      <th>2014-03-31</th>\n",
       "      <td>12.580595</td>\n",
       "      <td>2014-03-31</td>\n",
       "      <td>1278</td>\n",
       "      <td>2014-03-31</td>\n",
       "      <td>3</td>\n",
       "    </tr>\n",
       "    <tr>\n",
       "      <th>2014-04-30</th>\n",
       "      <td>12.624365</td>\n",
       "      <td>2014-04-30</td>\n",
       "      <td>1182</td>\n",
       "      <td>2014-04-30</td>\n",
       "      <td>4</td>\n",
       "    </tr>\n",
       "    <tr>\n",
       "      <th>2014-05-31</th>\n",
       "      <td>12.280083</td>\n",
       "      <td>2014-05-31</td>\n",
       "      <td>964</td>\n",
       "      <td>2014-05-31</td>\n",
       "      <td>5</td>\n",
       "    </tr>\n",
       "    <tr>\n",
       "      <th>2014-06-30</th>\n",
       "      <td>15.066437</td>\n",
       "      <td>2014-06-30</td>\n",
       "      <td>1159</td>\n",
       "      <td>2014-06-30</td>\n",
       "      <td>6</td>\n",
       "    </tr>\n",
       "    <tr>\n",
       "      <th>2014-07-31</th>\n",
       "      <td>13.701789</td>\n",
       "      <td>2014-07-31</td>\n",
       "      <td>1006</td>\n",
       "      <td>2014-07-31</td>\n",
       "      <td>7</td>\n",
       "    </tr>\n",
       "    <tr>\n",
       "      <th>2014-08-31</th>\n",
       "      <td>12.505335</td>\n",
       "      <td>2014-08-31</td>\n",
       "      <td>1031</td>\n",
       "      <td>2014-08-31</td>\n",
       "      <td>8</td>\n",
       "    </tr>\n",
       "    <tr>\n",
       "      <th>2014-09-30</th>\n",
       "      <td>13.930567</td>\n",
       "      <td>2014-09-30</td>\n",
       "      <td>1181</td>\n",
       "      <td>2014-09-30</td>\n",
       "      <td>9</td>\n",
       "    </tr>\n",
       "    <tr>\n",
       "      <th>2014-10-31</th>\n",
       "      <td>16.803625</td>\n",
       "      <td>2014-10-31</td>\n",
       "      <td>993</td>\n",
       "      <td>2014-10-31</td>\n",
       "      <td>10</td>\n",
       "    </tr>\n",
       "    <tr>\n",
       "      <th>2014-11-30</th>\n",
       "      <td>15.501160</td>\n",
       "      <td>2014-11-30</td>\n",
       "      <td>862</td>\n",
       "      <td>2014-11-30</td>\n",
       "      <td>11</td>\n",
       "    </tr>\n",
       "    <tr>\n",
       "      <th>2014-12-31</th>\n",
       "      <td>13.972540</td>\n",
       "      <td>2014-12-31</td>\n",
       "      <td>874</td>\n",
       "      <td>2014-12-31</td>\n",
       "      <td>12</td>\n",
       "    </tr>\n",
       "    <tr>\n",
       "      <th>2015-01-31</th>\n",
       "      <td>11.913779</td>\n",
       "      <td>2015-01-31</td>\n",
       "      <td>1241</td>\n",
       "      <td>2015-01-31</td>\n",
       "      <td>1</td>\n",
       "    </tr>\n",
       "    <tr>\n",
       "      <th>2015-02-28</th>\n",
       "      <td>11.418465</td>\n",
       "      <td>2015-02-28</td>\n",
       "      <td>1668</td>\n",
       "      <td>2015-02-28</td>\n",
       "      <td>2</td>\n",
       "    </tr>\n",
       "    <tr>\n",
       "      <th>2015-03-31</th>\n",
       "      <td>13.610687</td>\n",
       "      <td>2015-03-31</td>\n",
       "      <td>1048</td>\n",
       "      <td>2015-03-31</td>\n",
       "      <td>3</td>\n",
       "    </tr>\n",
       "    <tr>\n",
       "      <th>2015-04-30</th>\n",
       "      <td>13.791139</td>\n",
       "      <td>2015-04-30</td>\n",
       "      <td>948</td>\n",
       "      <td>2015-04-30</td>\n",
       "      <td>4</td>\n",
       "    </tr>\n",
       "    <tr>\n",
       "      <th>2015-05-31</th>\n",
       "      <td>16.212888</td>\n",
       "      <td>2015-05-31</td>\n",
       "      <td>869</td>\n",
       "      <td>2015-05-31</td>\n",
       "      <td>5</td>\n",
       "    </tr>\n",
       "    <tr>\n",
       "      <th>2015-06-30</th>\n",
       "      <td>16.766834</td>\n",
       "      <td>2015-06-30</td>\n",
       "      <td>995</td>\n",
       "      <td>2015-06-30</td>\n",
       "      <td>6</td>\n",
       "    </tr>\n",
       "    <tr>\n",
       "      <th>2015-07-31</th>\n",
       "      <td>11.854423</td>\n",
       "      <td>2015-07-31</td>\n",
       "      <td>893</td>\n",
       "      <td>2015-07-31</td>\n",
       "      <td>7</td>\n",
       "    </tr>\n",
       "    <tr>\n",
       "      <th>2015-08-31</th>\n",
       "      <td>12.429012</td>\n",
       "      <td>2015-08-31</td>\n",
       "      <td>972</td>\n",
       "      <td>2015-08-31</td>\n",
       "      <td>8</td>\n",
       "    </tr>\n",
       "  </tbody>\n",
       "</table>\n",
       "</div>"
      ],
      "text/plain": [
       "                  Min Delay Report Date Time  Delay Count  \\\n",
       "Report Date Time                                            \n",
       "2014-01-31         7.862069       2014-01-31          319   \n",
       "2014-02-28        14.117978       2014-02-28          178   \n",
       "2014-03-31        12.580595       2014-03-31         1278   \n",
       "2014-04-30        12.624365       2014-04-30         1182   \n",
       "2014-05-31        12.280083       2014-05-31          964   \n",
       "2014-06-30        15.066437       2014-06-30         1159   \n",
       "2014-07-31        13.701789       2014-07-31         1006   \n",
       "2014-08-31        12.505335       2014-08-31         1031   \n",
       "2014-09-30        13.930567       2014-09-30         1181   \n",
       "2014-10-31        16.803625       2014-10-31          993   \n",
       "2014-11-30        15.501160       2014-11-30          862   \n",
       "2014-12-31        13.972540       2014-12-31          874   \n",
       "2015-01-31        11.913779       2015-01-31         1241   \n",
       "2015-02-28        11.418465       2015-02-28         1668   \n",
       "2015-03-31        13.610687       2015-03-31         1048   \n",
       "2015-04-30        13.791139       2015-04-30          948   \n",
       "2015-05-31        16.212888       2015-05-31          869   \n",
       "2015-06-30        16.766834       2015-06-30          995   \n",
       "2015-07-31        11.854423       2015-07-31          893   \n",
       "2015-08-31        12.429012       2015-08-31          972   \n",
       "\n",
       "                 Report Date Time_right  Month  \n",
       "Report Date Time                                \n",
       "2014-01-31                   2014-01-31      1  \n",
       "2014-02-28                   2014-02-28      2  \n",
       "2014-03-31                   2014-03-31      3  \n",
       "2014-04-30                   2014-04-30      4  \n",
       "2014-05-31                   2014-05-31      5  \n",
       "2014-06-30                   2014-06-30      6  \n",
       "2014-07-31                   2014-07-31      7  \n",
       "2014-08-31                   2014-08-31      8  \n",
       "2014-09-30                   2014-09-30      9  \n",
       "2014-10-31                   2014-10-31     10  \n",
       "2014-11-30                   2014-11-30     11  \n",
       "2014-12-31                   2014-12-31     12  \n",
       "2015-01-31                   2015-01-31      1  \n",
       "2015-02-28                   2015-02-28      2  \n",
       "2015-03-31                   2015-03-31      3  \n",
       "2015-04-30                   2015-04-30      4  \n",
       "2015-05-31                   2015-05-31      5  \n",
       "2015-06-30                   2015-06-30      6  \n",
       "2015-07-31                   2015-07-31      7  \n",
       "2015-08-31                   2015-08-31      8  "
      ]
     },
     "execution_count": 34,
     "metadata": {},
     "output_type": "execute_result"
    }
   ],
   "source": [
    "# add a column to make scatter plot by month convenient\n",
    "dfmonthav['Month'] = dfmonthav['Report Date Time'].dt.month\n",
    "dfmonthav.head(20)"
   ]
  },
  {
   "cell_type": "code",
   "execution_count": 35,
   "metadata": {},
   "outputs": [
    {
     "data": {
      "text/html": [
       "<div>\n",
       "<style scoped>\n",
       "    .dataframe tbody tr th:only-of-type {\n",
       "        vertical-align: middle;\n",
       "    }\n",
       "\n",
       "    .dataframe tbody tr th {\n",
       "        vertical-align: top;\n",
       "    }\n",
       "\n",
       "    .dataframe thead th {\n",
       "        text-align: right;\n",
       "    }\n",
       "</style>\n",
       "<table border=\"1\" class=\"dataframe\">\n",
       "  <thead>\n",
       "    <tr style=\"text-align: right;\">\n",
       "      <th></th>\n",
       "      <th>Min Delay</th>\n",
       "      <th>Report Date Time</th>\n",
       "      <th>Delay Count</th>\n",
       "      <th>Report Date Time_right</th>\n",
       "      <th>Month</th>\n",
       "    </tr>\n",
       "    <tr>\n",
       "      <th>Report Date Time</th>\n",
       "      <th></th>\n",
       "      <th></th>\n",
       "      <th></th>\n",
       "      <th></th>\n",
       "      <th></th>\n",
       "    </tr>\n",
       "  </thead>\n",
       "  <tbody>\n",
       "    <tr>\n",
       "      <th>2014-01-31</th>\n",
       "      <td>7.862069</td>\n",
       "      <td>2014-01-31</td>\n",
       "      <td>319</td>\n",
       "      <td>2014-01-31</td>\n",
       "      <td>1</td>\n",
       "    </tr>\n",
       "    <tr>\n",
       "      <th>2014-02-28</th>\n",
       "      <td>14.117978</td>\n",
       "      <td>2014-02-28</td>\n",
       "      <td>178</td>\n",
       "      <td>2014-02-28</td>\n",
       "      <td>2</td>\n",
       "    </tr>\n",
       "    <tr>\n",
       "      <th>2014-03-31</th>\n",
       "      <td>12.580595</td>\n",
       "      <td>2014-03-31</td>\n",
       "      <td>1278</td>\n",
       "      <td>2014-03-31</td>\n",
       "      <td>3</td>\n",
       "    </tr>\n",
       "    <tr>\n",
       "      <th>2014-04-30</th>\n",
       "      <td>12.624365</td>\n",
       "      <td>2014-04-30</td>\n",
       "      <td>1182</td>\n",
       "      <td>2014-04-30</td>\n",
       "      <td>4</td>\n",
       "    </tr>\n",
       "    <tr>\n",
       "      <th>2014-05-31</th>\n",
       "      <td>12.280083</td>\n",
       "      <td>2014-05-31</td>\n",
       "      <td>964</td>\n",
       "      <td>2014-05-31</td>\n",
       "      <td>5</td>\n",
       "    </tr>\n",
       "    <tr>\n",
       "      <th>2014-06-30</th>\n",
       "      <td>15.066437</td>\n",
       "      <td>2014-06-30</td>\n",
       "      <td>1159</td>\n",
       "      <td>2014-06-30</td>\n",
       "      <td>6</td>\n",
       "    </tr>\n",
       "    <tr>\n",
       "      <th>2014-07-31</th>\n",
       "      <td>13.701789</td>\n",
       "      <td>2014-07-31</td>\n",
       "      <td>1006</td>\n",
       "      <td>2014-07-31</td>\n",
       "      <td>7</td>\n",
       "    </tr>\n",
       "    <tr>\n",
       "      <th>2014-08-31</th>\n",
       "      <td>12.505335</td>\n",
       "      <td>2014-08-31</td>\n",
       "      <td>1031</td>\n",
       "      <td>2014-08-31</td>\n",
       "      <td>8</td>\n",
       "    </tr>\n",
       "    <tr>\n",
       "      <th>2014-09-30</th>\n",
       "      <td>13.930567</td>\n",
       "      <td>2014-09-30</td>\n",
       "      <td>1181</td>\n",
       "      <td>2014-09-30</td>\n",
       "      <td>9</td>\n",
       "    </tr>\n",
       "    <tr>\n",
       "      <th>2014-10-31</th>\n",
       "      <td>16.803625</td>\n",
       "      <td>2014-10-31</td>\n",
       "      <td>993</td>\n",
       "      <td>2014-10-31</td>\n",
       "      <td>10</td>\n",
       "    </tr>\n",
       "    <tr>\n",
       "      <th>2014-11-30</th>\n",
       "      <td>15.501160</td>\n",
       "      <td>2014-11-30</td>\n",
       "      <td>862</td>\n",
       "      <td>2014-11-30</td>\n",
       "      <td>11</td>\n",
       "    </tr>\n",
       "    <tr>\n",
       "      <th>2014-12-31</th>\n",
       "      <td>13.972540</td>\n",
       "      <td>2014-12-31</td>\n",
       "      <td>874</td>\n",
       "      <td>2014-12-31</td>\n",
       "      <td>12</td>\n",
       "    </tr>\n",
       "    <tr>\n",
       "      <th>2015-01-31</th>\n",
       "      <td>11.913779</td>\n",
       "      <td>2015-01-31</td>\n",
       "      <td>1241</td>\n",
       "      <td>2015-01-31</td>\n",
       "      <td>1</td>\n",
       "    </tr>\n",
       "    <tr>\n",
       "      <th>2015-02-28</th>\n",
       "      <td>11.418465</td>\n",
       "      <td>2015-02-28</td>\n",
       "      <td>1668</td>\n",
       "      <td>2015-02-28</td>\n",
       "      <td>2</td>\n",
       "    </tr>\n",
       "    <tr>\n",
       "      <th>2015-03-31</th>\n",
       "      <td>13.610687</td>\n",
       "      <td>2015-03-31</td>\n",
       "      <td>1048</td>\n",
       "      <td>2015-03-31</td>\n",
       "      <td>3</td>\n",
       "    </tr>\n",
       "    <tr>\n",
       "      <th>2015-04-30</th>\n",
       "      <td>13.791139</td>\n",
       "      <td>2015-04-30</td>\n",
       "      <td>948</td>\n",
       "      <td>2015-04-30</td>\n",
       "      <td>4</td>\n",
       "    </tr>\n",
       "    <tr>\n",
       "      <th>2015-05-31</th>\n",
       "      <td>16.212888</td>\n",
       "      <td>2015-05-31</td>\n",
       "      <td>869</td>\n",
       "      <td>2015-05-31</td>\n",
       "      <td>5</td>\n",
       "    </tr>\n",
       "    <tr>\n",
       "      <th>2015-06-30</th>\n",
       "      <td>16.766834</td>\n",
       "      <td>2015-06-30</td>\n",
       "      <td>995</td>\n",
       "      <td>2015-06-30</td>\n",
       "      <td>6</td>\n",
       "    </tr>\n",
       "    <tr>\n",
       "      <th>2015-07-31</th>\n",
       "      <td>11.854423</td>\n",
       "      <td>2015-07-31</td>\n",
       "      <td>893</td>\n",
       "      <td>2015-07-31</td>\n",
       "      <td>7</td>\n",
       "    </tr>\n",
       "    <tr>\n",
       "      <th>2015-08-31</th>\n",
       "      <td>12.429012</td>\n",
       "      <td>2015-08-31</td>\n",
       "      <td>972</td>\n",
       "      <td>2015-08-31</td>\n",
       "      <td>8</td>\n",
       "    </tr>\n",
       "  </tbody>\n",
       "</table>\n",
       "</div>"
      ],
      "text/plain": [
       "                  Min Delay Report Date Time  Delay Count  \\\n",
       "Report Date Time                                            \n",
       "2014-01-31         7.862069       2014-01-31          319   \n",
       "2014-02-28        14.117978       2014-02-28          178   \n",
       "2014-03-31        12.580595       2014-03-31         1278   \n",
       "2014-04-30        12.624365       2014-04-30         1182   \n",
       "2014-05-31        12.280083       2014-05-31          964   \n",
       "2014-06-30        15.066437       2014-06-30         1159   \n",
       "2014-07-31        13.701789       2014-07-31         1006   \n",
       "2014-08-31        12.505335       2014-08-31         1031   \n",
       "2014-09-30        13.930567       2014-09-30         1181   \n",
       "2014-10-31        16.803625       2014-10-31          993   \n",
       "2014-11-30        15.501160       2014-11-30          862   \n",
       "2014-12-31        13.972540       2014-12-31          874   \n",
       "2015-01-31        11.913779       2015-01-31         1241   \n",
       "2015-02-28        11.418465       2015-02-28         1668   \n",
       "2015-03-31        13.610687       2015-03-31         1048   \n",
       "2015-04-30        13.791139       2015-04-30          948   \n",
       "2015-05-31        16.212888       2015-05-31          869   \n",
       "2015-06-30        16.766834       2015-06-30          995   \n",
       "2015-07-31        11.854423       2015-07-31          893   \n",
       "2015-08-31        12.429012       2015-08-31          972   \n",
       "\n",
       "                 Report Date Time_right  Month  \n",
       "Report Date Time                                \n",
       "2014-01-31                   2014-01-31      1  \n",
       "2014-02-28                   2014-02-28      2  \n",
       "2014-03-31                   2014-03-31      3  \n",
       "2014-04-30                   2014-04-30      4  \n",
       "2014-05-31                   2014-05-31      5  \n",
       "2014-06-30                   2014-06-30      6  \n",
       "2014-07-31                   2014-07-31      7  \n",
       "2014-08-31                   2014-08-31      8  \n",
       "2014-09-30                   2014-09-30      9  \n",
       "2014-10-31                   2014-10-31     10  \n",
       "2014-11-30                   2014-11-30     11  \n",
       "2014-12-31                   2014-12-31     12  \n",
       "2015-01-31                   2015-01-31      1  \n",
       "2015-02-28                   2015-02-28      2  \n",
       "2015-03-31                   2015-03-31      3  \n",
       "2015-04-30                   2015-04-30      4  \n",
       "2015-05-31                   2015-05-31      5  \n",
       "2015-06-30                   2015-06-30      6  \n",
       "2015-07-31                   2015-07-31      7  \n",
       "2015-08-31                   2015-08-31      8  "
      ]
     },
     "execution_count": 35,
     "metadata": {},
     "output_type": "execute_result"
    }
   ],
   "source": [
    "dfmonthav.head(20)"
   ]
  },
  {
   "cell_type": "code",
   "execution_count": 36,
   "metadata": {},
   "outputs": [
    {
     "data": {
      "image/png": "[encoded data removed]",
      "text/plain": [
       "<matplotlib.figure.Figure at 0x7fc3645c1dd8>"
      ]
     },
     "metadata": {},
     "output_type": "display_data"
    }
   ],
   "source": [
    "# scatter plot to show mean delay in same month across years\n",
    "dfmonthav.plot.scatter(x = 'Month', y = 'Min Delay')\n",
    "plt.show()"
   ]
  },
  {
   "cell_type": "code",
   "execution_count": 37,
   "metadata": {},
   "outputs": [
    {
     "data": {
      "image/png": "[encoded data removed]",
      "text/plain": [
       "<matplotlib.figure.Figure at 0x7fc35ac9b048>"
      ]
     },
     "metadata": {},
     "output_type": "display_data"
    }
   ],
   "source": [
    "# scatter plot to show delay count in same month across years\n",
    "dfmonthav.plot.scatter(x = 'Month', y = 'Delay Count')\n",
    "plt.show()"
   ]
  },
  {
   "cell_type": "markdown",
   "metadata": {},
   "source": [
    "# Trend Analysis\n",
    "\n",
    "Use the rolling method which is inbuilt in pandas for smoothing.\n",
    "\n",
    "For trend analysis, we use smoothing techniques. \n",
    "- In statistics smoothing a data set means to create an approximating function that attempts to capture important patterns in the data, while leaving out noise or other fine-scale structures/rapid phenomena. \n",
    "- In smoothing, the data points of a signal are modified so individual points (presumably because of noise) are reduced, and points that are lower than the adjacent points are increased leading to a smoother signal. \n",
    "\n",
    "We implement smoothing by taking moving averages. [Exponential moving average](https://www.investopedia.com/terms/e/ema.asp) is frequently used to compute smoothed function."
   ]
  },
  {
   "cell_type": "code",
   "execution_count": 38,
   "metadata": {},
   "outputs": [],
   "source": [
    "mean_delay = dfmonthav[['Min Delay']]\n",
    "count_delay = dfmonthav[['Delay Count']]"
   ]
  },
  {
   "cell_type": "code",
   "execution_count": 39,
   "metadata": {},
   "outputs": [
    {
     "data": {
      "image/png": "[encoded data removed]",
      "text/plain": [
       "<matplotlib.figure.Figure at 0x7fc35abb9198>"
      ]
     },
     "metadata": {},
     "output_type": "display_data"
    }
   ],
   "source": [
    "mean_delay.rolling(6).mean().plot(figsize=(20,10), linewidth=5, fontsize=20)\n",
    "plt.show()"
   ]
  },
  {
   "cell_type": "code",
   "execution_count": 40,
   "metadata": {},
   "outputs": [
    {
     "data": {
      "image/png": "[encoded data removed]",
      "text/plain": [
       "<matplotlib.figure.Figure at 0x7fc35abb9ef0>"
      ]
     },
     "metadata": {},
     "output_type": "display_data"
    }
   ],
   "source": [
    "count_delay.rolling(6).mean().plot(figsize=(20,10), linewidth=5, fontsize=20)\n",
    "plt.show()"
   ]
  },
  {
   "cell_type": "markdown",
   "metadata": {},
   "source": [
    "## Seasonability Analysis\n",
    "\n",
    "Two most famous seasonability analysis algorithms are:\n",
    "\n",
    "[Using 1st discrete difference of object](https://machinelearningmastery.com/difference-time-series-dataset-python/)\n",
    "\n",
    "[Periodicity and Autocorrelation](https://machinelearningmastery.com/gentle-introduction-autocorrelation-partial-autocorrelation/)"
   ]
  },
  {
   "cell_type": "code",
   "execution_count": 41,
   "metadata": {},
   "outputs": [
    {
     "data": {
      "image/png": "[encoded data removed]",
      "text/plain": [
       "<matplotlib.figure.Figure at 0x7fc35abcff98>"
      ]
     },
     "metadata": {},
     "output_type": "display_data"
    }
   ],
   "source": [
    "# using 1st discrete difference of object\n",
    "# This gives us idea about variation of data for a period of time.\n",
    "mean_delay.diff(periods=4).plot(figsize=(20,10), linewidth=5, fontsize=20)\n",
    "plt.show()"
   ]
  },
  {
   "cell_type": "code",
   "execution_count": 42,
   "metadata": {},
   "outputs": [
    {
     "data": {
      "image/png": "[encoded data removed]",
      "text/plain": [
       "<matplotlib.figure.Figure at 0x7fc35aadbc88>"
      ]
     },
     "metadata": {},
     "output_type": "display_data"
    }
   ],
   "source": [
    "count_delay.diff(periods=4).plot(figsize=(20,10), linewidth=5, fontsize=20)\n",
    "plt.show()"
   ]
  },
  {
   "cell_type": "markdown",
   "metadata": {},
   "source": [
    "Auto correlation is the most famous way to understand seasonal variation till now. We can calculate the correlation for time series observations with observations with previous time steps, called lags. Because the correlation of the time series observations is calculated with values of the same series at previous times, this is called a serial correlation, or an autocorrelation.In this plot vertical axis is represented by the following equations:-\n",
    "\n",
    "> $C_n = \\sum_{t = 1}^{n - h} (y(t) - \\hat{y}) (y(t + n) - \\hat{y}) / n$\n",
    "\n",
    "> $C_0 = \\sum_{t = 1}^{n} (y(t) - \\hat{y})^2 / n$\n",
    "\n",
    "Horizontal axis represents time lag(previous time steps)  h"
   ]
  },
  {
   "cell_type": "code",
   "execution_count": 43,
   "metadata": {},
   "outputs": [
    {
     "data": {
      "image/png": "[encoded data removed]",
      "text/plain": [
       "<matplotlib.figure.Figure at 0x7fc35ab70160>"
      ]
     },
     "metadata": {},
     "output_type": "display_data"
    }
   ],
   "source": [
    "# mean_delay = dfmonthav[['Min Delay']]\n",
    "# count_delay = dfmonthav[['Delay Count']]\n",
    "\n",
    "\n",
    "pd.plotting.autocorrelation_plot(dfmonthav['Min Delay'])\n",
    "plt.show()\n",
    "# The following curve represents the relation between current time step and its previous time step"
   ]
  },
  {
   "cell_type": "code",
   "execution_count": 44,
   "metadata": {},
   "outputs": [
    {
     "data": {
      "image/png": "[encoded data removed]",
      "text/plain": [
       "<matplotlib.figure.Figure at 0x7fc35abeaba8>"
      ]
     },
     "metadata": {},
     "output_type": "display_data"
    }
   ],
   "source": [
    "pd.plotting.autocorrelation_plot(dfmonthav['Delay Count'])\n",
    "plt.show()\n",
    "# The following curve represents the relation between current time step and its previous time step"
   ]
  },
  {
   "cell_type": "code",
   "execution_count": 45,
   "metadata": {},
   "outputs": [
    {
     "data": {
      "image/png": "[encoded data removed]",
      "text/plain": [
       "<matplotlib.figure.Figure at 0x7fc35a835f98>"
      ]
     },
     "metadata": {},
     "output_type": "display_data"
    }
   ],
   "source": [
    "pd.plotting.lag_plot(dfmonthav['Min Delay'])\n",
    "plt.show()"
   ]
  },
  {
   "cell_type": "code",
   "execution_count": 46,
   "metadata": {},
   "outputs": [
    {
     "data": {
      "image/png": "[encoded data removed]",
      "text/plain": [
       "<matplotlib.figure.Figure at 0x7fc35a7c3128>"
      ]
     },
     "metadata": {},
     "output_type": "display_data"
    }
   ],
   "source": [
    "pd.plotting.lag_plot(dfmonthav['Delay Count'])\n",
    "plt.show()"
   ]
  },
  {
   "cell_type": "code",
   "execution_count": 47,
   "metadata": {},
   "outputs": [],
   "source": [
    "# df = df.set_index('YEAR_MONTH_SALE_DATE')"
   ]
  },
  {
   "cell_type": "markdown",
   "metadata": {},
   "source": [
    "## Applying Seasonal ARIMA model to forcast the data "
   ]
  },
  {
   "cell_type": "code",
   "execution_count": 48,
   "metadata": {},
   "outputs": [
    {
     "name": "stdout",
     "output_type": "stream",
     "text": [
      "                                 Statespace Model Results                                 \n",
      "==========================================================================================\n",
      "Dep. Variable:                        Delay Count   No. Observations:                   55\n",
      "Model:             SARIMAX(0, 1, 0)x(1, 1, 1, 12)   Log Likelihood                -552.588\n",
      "Date:                            Sun, 18 Nov 2018   AIC                           1111.176\n",
      "Time:                                    16:12:15   BIC                           1117.198\n",
      "Sample:                                01-31-2014   HQIC                          1113.505\n",
      "                                     - 07-31-2018                                         \n",
      "Covariance Type:                              opg                                         \n",
      "==============================================================================\n",
      "                 coef    std err          z      P>|z|      [0.025      0.975]\n",
      "------------------------------------------------------------------------------\n",
      "ar.S.L12       0.8381        nan        nan        nan         nan         nan\n",
      "ma.S.L12   -7.475e+13          0       -inf      0.000   -7.48e+13   -7.48e+13\n",
      "sigma2      1.012e-12   3.52e-10      0.003      0.998    -6.9e-10    6.92e-10\n",
      "===================================================================================\n",
      "Ljung-Box (Q):                       25.56   Jarque-Bera (JB):               106.11\n",
      "Prob(Q):                              0.60   Prob(JB):                         0.00\n",
      "Heteroskedasticity (H):               0.20   Skew:                             2.29\n",
      "Prob(H) (two-sided):                  0.02   Kurtosis:                        11.18\n",
      "===================================================================================\n",
      "\n",
      "Warnings:\n",
      "[1] Covariance matrix calculated using the outer product of gradients (complex-step).\n",
      "[2] Covariance matrix is singular or near-singular, with condition number    inf. Standard errors may be unstable.\n"
     ]
    },
    {
     "name": "stderr",
     "output_type": "stream",
     "text": [
      "/home/paperspace/anaconda3/envs/fastai/lib/python3.6/site-packages/statsmodels/base/model.py:496: ConvergenceWarning: Maximum Likelihood optimization failed to converge. Check mle_retvals\n",
      "  \"Check mle_retvals\", ConvergenceWarning)\n",
      "/home/paperspace/anaconda3/envs/fastai/lib/python3.6/site-packages/statsmodels/base/model.py:1029: RuntimeWarning: invalid value encountered in sqrt\n",
      "  return np.sqrt(np.diag(self.cov_params()))\n",
      "/home/paperspace/anaconda3/envs/fastai/lib/python3.6/site-packages/statsmodels/base/model.py:1036: RuntimeWarning: divide by zero encountered in true_divide\n",
      "  return self.params / self.bse\n",
      "/home/paperspace/anaconda3/envs/fastai/lib/python3.6/site-packages/statsmodels/tsa/statespace/mlemodel.py:1964: RuntimeWarning: divide by zero encountered in true_divide\n",
      "  return self.params / self.bse\n",
      "/home/paperspace/anaconda3/envs/fastai/lib/python3.6/site-packages/scipy/stats/_distn_infrastructure.py:879: RuntimeWarning: invalid value encountered in greater\n",
      "  return (self.a < x) & (x < self.b)\n",
      "/home/paperspace/anaconda3/envs/fastai/lib/python3.6/site-packages/scipy/stats/_distn_infrastructure.py:879: RuntimeWarning: invalid value encountered in less\n",
      "  return (self.a < x) & (x < self.b)\n",
      "/home/paperspace/anaconda3/envs/fastai/lib/python3.6/site-packages/scipy/stats/_distn_infrastructure.py:1821: RuntimeWarning: invalid value encountered in less_equal\n",
      "  cond2 = cond0 & (x <= self.a)\n",
      "/home/paperspace/anaconda3/envs/fastai/lib/python3.6/site-packages/numpy/linalg/linalg.py:1502: RuntimeWarning: divide by zero encountered in true_divide\n",
      "  return s[..., 0]/s[..., -1]\n"
     ]
    }
   ],
   "source": [
    "# try enforce_stationarity and enforce_invertibility to false\n",
    "# mod = sm.tsa.SARIMAX(dfmonthav['Min Delay'], trend='n', order=(0,1,0), seasonal_order=(1,1,1,12))\n",
    "mod = sm.tsa.SARIMAX(dfmonthav['Delay Count'], trend='n', order=(0,1,0), seasonal_order=(1,1,1,12), enforce_stationarity=False, enforce_invertibility = False)\n",
    "\n",
    "results = mod.fit()\n",
    "print(results.summary())"
   ]
  },
  {
   "cell_type": "code",
   "execution_count": 49,
   "metadata": {},
   "outputs": [
    {
     "name": "stdout",
     "output_type": "stream",
     "text": [
      "                                 Statespace Model Results                                 \n",
      "==========================================================================================\n",
      "Dep. Variable:                        Delay Count   No. Observations:                   55\n",
      "Model:             SARIMAX(0, 1, 0)x(1, 1, 1, 12)   Log Likelihood                -552.588\n",
      "Date:                            Sun, 18 Nov 2018   AIC                           1111.176\n",
      "Time:                                    16:12:15   BIC                           1117.198\n",
      "Sample:                                01-31-2014   HQIC                          1113.505\n",
      "                                     - 07-31-2018                                         \n",
      "Covariance Type:                              opg                                         \n",
      "==============================================================================\n",
      "                 coef    std err          z      P>|z|      [0.025      0.975]\n",
      "------------------------------------------------------------------------------\n",
      "ar.S.L12       0.8381        nan        nan        nan         nan         nan\n",
      "ma.S.L12   -7.475e+13          0       -inf      0.000   -7.48e+13   -7.48e+13\n",
      "sigma2      1.012e-12   3.52e-10      0.003      0.998    -6.9e-10    6.92e-10\n",
      "===================================================================================\n",
      "Ljung-Box (Q):                       25.56   Jarque-Bera (JB):               106.11\n",
      "Prob(Q):                              0.60   Prob(JB):                         0.00\n",
      "Heteroskedasticity (H):               0.20   Skew:                             2.29\n",
      "Prob(H) (two-sided):                  0.02   Kurtosis:                        11.18\n",
      "===================================================================================\n",
      "\n",
      "Warnings:\n",
      "[1] Covariance matrix calculated using the outer product of gradients (complex-step).\n",
      "[2] Covariance matrix is singular or near-singular, with condition number    inf. Standard errors may be unstable.\n"
     ]
    },
    {
     "name": "stderr",
     "output_type": "stream",
     "text": [
      "/home/paperspace/anaconda3/envs/fastai/lib/python3.6/site-packages/numpy/linalg/linalg.py:1502: RuntimeWarning: divide by zero encountered in true_divide\n",
      "  return s[..., 0]/s[..., -1]\n"
     ]
    }
   ],
   "source": [
    "# try enforce_stationarity and enforce_invertibility to false\n",
    "# mod = sm.tsa.SARIMAX(dfmonthav['Min Delay'], trend='n', order=(0,1,0), seasonal_order=(1,1,1,12))\n",
    "mod = sm.tsa.SARIMAX(dfmonthav['Min Delay'], trend='n', order=(0,1,0), seasonal_order=(1,1,1,12), enforce_stationarity=False, enforce_invertibility = False)\n",
    "\n",
    "resultsdelay = mod.fit()\n",
    "print(results.summary())"
   ]
  },
  {
   "cell_type": "markdown",
   "metadata": {},
   "source": [
    "## Evaluation"
   ]
  },
  {
   "cell_type": "code",
   "execution_count": 50,
   "metadata": {},
   "outputs": [
    {
     "data": {
      "image/png": "[encoded data removed]",
      "text/plain": [
       "<matplotlib.figure.Figure at 0x7fc35a859c50>"
      ]
     },
     "metadata": {},
     "output_type": "display_data"
    }
   ],
   "source": [
    "# evaluation of delay count\n",
    "dfmonthav['forecast delay count'] = results.predict(start = 44, end= 54, dynamic= True)  \n",
    "dfmonthav[['Delay Count', 'forecast delay count']].plot(figsize=(16, 8))\n",
    "plt.show()"
   ]
  },
  {
   "cell_type": "code",
   "execution_count": 51,
   "metadata": {},
   "outputs": [
    {
     "data": {
      "image/png": "[encoded data removed]",
      "text/plain": [
       "<matplotlib.figure.Figure at 0x7fc35aa774e0>"
      ]
     },
     "metadata": {},
     "output_type": "display_data"
    }
   ],
   "source": [
    "# evaluation of delay mean\n",
    "dfmonthav['forecast delay mean'] = resultsdelay.predict(start = 44, end= 54, dynamic= True)  \n",
    "dfmonthav[['Min Delay', 'forecast delay mean']].plot(figsize=(16, 8))\n",
    "plt.show()"
   ]
  },
  {
   "cell_type": "markdown",
   "metadata": {},
   "source": [
    "# Additional data explorations"
   ]
  },
  {
   "cell_type": "code",
   "execution_count": 61,
   "metadata": {},
   "outputs": [
    {
     "name": "stdout",
     "output_type": "stream",
     "text": [
      "Unique Location values: 14106\n",
      "Unique Location values after lcasing: 12049\n"
     ]
    },
    {
     "data": {
      "text/plain": [
       "russell yard               1135\n",
       "roncy yard                  936\n",
       "queen and connaught         910\n",
       "roncesvalles yard           898\n",
       "queen and roncesvalles      763\n",
       "roncesvalles and queen      754\n",
       "cne loop                    601\n",
       "broadview station           581\n",
       "dundas west station         578\n",
       "queen at connaught          511\n",
       "broadview stn               492\n",
       "broadview and queen         467\n",
       "humber loop                 458\n",
       "roncesvalles yard.          425\n",
       "spadina and king            387\n",
       "leslie barns                376\n",
       "dundas west stn             342\n",
       "queen and broadview         336\n",
       "main station                335\n",
       "bingham loop                329\n",
       "spadina station             327\n",
       "neville loop                320\n",
       "queen at roncesvalles       318\n",
       "coxwell and gerrard         303\n",
       "king and spadina            298\n",
       "bathurst station            294\n",
       "broadview and dundas        292\n",
       "ronc. carhouse.             271\n",
       "exhibition loop             262\n",
       "fleet loop                  245\n",
       "                           ... \n",
       "dundas and parliament       108\n",
       "queen and church            106\n",
       "bathurst and queen          106\n",
       "king/spadina                105\n",
       "russell carhouse            105\n",
       "birchmount garage           103\n",
       "college and spadina         101\n",
       "sunnyside loop              100\n",
       "queen and dufferin           99\n",
       "queen and shaw               99\n",
       "dundas and bathurst          93\n",
       "spadina/king                 93\n",
       "king and sumach              91\n",
       "king and church              91\n",
       "union station                91\n",
       "roncesvalles at queen        90\n",
       "queen at broadview           88\n",
       "bathurst and dundas          88\n",
       "st clair station             87\n",
       "king and shaw                87\n",
       "spadina and dundas           86\n",
       "spadina at king              85\n",
       "lansdowne                    84\n",
       "queen and river              84\n",
       "spadina and queens quay      83\n",
       "broadview and danforth       83\n",
       "springhurst loop             76\n",
       "scw stn                      75\n",
       "dundas and spadina           75\n",
       "queen and coxwell            75\n",
       "Name: Location, Length: 100, dtype: int64"
      ]
     },
     "execution_count": 61,
     "metadata": {},
     "output_type": "execute_result"
    }
   ],
   "source": [
    "# distinct values in location column\n",
    "# df['hID'].nunique() data['race'].value_counts()\n",
    "print(\"Unique Location values:\",df['Location'].nunique())\n",
    "df['Location'] = df['Location'].str.lower()\n",
    "print(\"Unique Location values after lcasing:\",df['Location'].nunique())\n",
    "df['Location'].value_counts().head(100)"
   ]
  },
  {
   "cell_type": "code",
   "execution_count": 64,
   "metadata": {},
   "outputs": [
    {
     "name": "stdout",
     "output_type": "stream",
     "text": [
      "Unique Location values before substitutions: 12049\n",
      "Unique Location values after substitutions: 11402\n"
     ]
    },
    {
     "data": {
      "text/plain": [
       "queen and connaught             1421\n",
       "russell yard                    1135\n",
       "queen and roncesvalles          1081\n",
       "roncy yard                       936\n",
       "roncesvalles yard                898\n",
       "roncesvalles and queen           844\n",
       "cne loop                         601\n",
       "broadview station                582\n",
       "dundas west station              578\n",
       "broadviewstation                 492\n",
       "broadview and queen              486\n",
       "spadina and king                 472\n",
       "humber loop                      458\n",
       "roncesvalles yard.               425\n",
       "queen and broadview              424\n",
       "leslie barns                     376\n",
       "broadview and dundas             362\n",
       "king and spadina                 350\n",
       "dundas weststation               342\n",
       "main station                     335\n",
       "bingham loop                     329\n",
       "spadina station                  327\n",
       "coxwell and gerrard              322\n",
       "neville loop                     320\n",
       "bathurst station                 294\n",
       "bathurst and king                284\n",
       "ronc. carhouse.                  271\n",
       "exhibition loop                  262\n",
       "howard park and roncesvalles     249\n",
       "fleet loop                       245\n",
       "                                ... \n",
       "king and parliament              119\n",
       "college and spadina              119\n",
       "roncy                            117\n",
       "parliament                       114\n",
       "queen and greenwood              112\n",
       "bathurst and dundas              111\n",
       "queen and coxwell                111\n",
       "dws                              110\n",
       "queen and yonge                  108\n",
       "coxwell and lower gerrard        106\n",
       "king and sumach                  106\n",
       "king/spadina                     105\n",
       "russell carhouse                 105\n",
       "king and church                  104\n",
       "birchmount garage                103\n",
       "spadina and dundas               103\n",
       "king and shaw                    102\n",
       "sunnyside loop                   100\n",
       "queen and carlaw                  99\n",
       "queen and river                   99\n",
       "spadina and queens quay           99\n",
       "queen and jarvis                  96\n",
       "spadina and college               94\n",
       "spadina/king                      93\n",
       "broadview and danforth            92\n",
       "union station                     91\n",
       "dundas and spadina                89\n",
       "college and bathurst              88\n",
       "st clair station                  87\n",
       "st clair and bathurst             85\n",
       "Name: Location, Length: 100, dtype: int64"
      ]
     },
     "execution_count": 64,
     "metadata": {},
     "output_type": "execute_result"
    }
   ],
   "source": [
    "# df.replace({'\\n': '<br>'}, regex=True)\n",
    "print(\"Unique Location values before substitutions:\",df['Location'].nunique())\n",
    "df['Location'] = df['Location'].replace({' at ':' and ', ' stn':'station'}, regex=True)\n",
    "print(\"Unique Location values after substitutions:\",df['Location'].nunique())\n",
    "df['Location'].value_counts().head(100)"
   ]
  },
  {
   "cell_type": "code",
   "execution_count": 53,
   "metadata": {},
   "outputs": [
    {
     "name": "stdout",
     "output_type": "stream",
     "text": [
      "route count 99\n"
     ]
    },
    {
     "data": {
      "text/plain": [
       "501    15215\n",
       "504    11598\n",
       "506     8161\n",
       "505     6557\n",
       "512     4631\n",
       "510     4006\n",
       "511     3165\n",
       "509     2239\n",
       "514     1410\n",
       "502     1306\n",
       "503      804\n",
       "301      609\n",
       "306      252\n",
       "508      137\n",
       "805      119\n",
       "304      102\n",
       "50        44\n",
       "535       41\n",
       "317       37\n",
       "705       32\n",
       "807       20\n",
       "5         20\n",
       "51        19\n",
       "310       17\n",
       "1         10\n",
       "4          8\n",
       "3          8\n",
       "500        7\n",
       "201        7\n",
       "11         6\n",
       "       ...  \n",
       "83         1\n",
       "43         1\n",
       "519        1\n",
       "63         1\n",
       "80         1\n",
       "45         1\n",
       "64         1\n",
       "210        1\n",
       "86         1\n",
       "56         1\n",
       "93         1\n",
       "204        1\n",
       "375        1\n",
       "111        1\n",
       "405        1\n",
       "205        1\n",
       "13         1\n",
       "595        1\n",
       "14         1\n",
       "596        1\n",
       "68         1\n",
       "57         1\n",
       "61         1\n",
       "85         1\n",
       "594        1\n",
       "830        1\n",
       "60         1\n",
       "28         1\n",
       "19         1\n",
       "81         1\n",
       "Name: Route, Length: 99, dtype: int64"
      ]
     },
     "execution_count": 53,
     "metadata": {},
     "output_type": "execute_result"
    }
   ],
   "source": [
    "print(\"route count\",df['Route'].nunique())\n",
    "df['Route'].value_counts()"
   ]
  },
  {
   "cell_type": "code",
   "execution_count": 54,
   "metadata": {},
   "outputs": [
    {
     "name": "stdout",
     "output_type": "stream",
     "text": [
      "Pixiedust database opened successfully\n"
     ]
    },
    {
     "data": {
      "text/html": [
       "\n",
       "        <div style=\"margin:10px\">\n",
       "            <a href=\"https://github.com/ibm-watson-data-lab/pixiedust\" target=\"_new\">\n",
       "                <img src=\"https://github.com/ibm-watson-data-lab/pixiedust/raw/master/docs/_static/pd_icon32.png\" style=\"float:left;margin-right:10px\"/>\n",
       "            </a>\n",
       "            <span>Pixiedust version 1.1.14</span>\n",
       "        </div>\n",
       "        "
      ],
      "text/plain": [
       "<IPython.core.display.HTML object>"
      ]
     },
     "metadata": {},
     "output_type": "display_data"
    }
   ],
   "source": [
    "import pixiedust"
   ]
  },
  {
   "cell_type": "code",
   "execution_count": 55,
   "metadata": {
    "pixiedust": {
     "displayParams": {
      "binsize": "23",
      "chartsize": "70",
      "clusterby": "Min Delay",
      "handlerId": "barChart",
      "keyFields": "Direction",
      "mapboxtoken": "pk.eyJ1Ijoicnlhbm1hcmsiLCJhIjoiY2pvM2JnZmE0MHY5dzNxcXM0Zmw3c2RwZSJ9.k-PhU8qMVztXtdyuX2Yjpw",
      "sortby": "Values DESC",
      "stretch": "false",
      "tableFields": "Day",
      "valueFields": "Min Delay"
     }
    },
    "scrolled": false
   },
   "outputs": [
    {
     "data": {
      "text/html": [
       "<style type=\"text/css\">.pd_warning{display:none;}</style><div class=\"pd_warning\"><em>Hey, there's something awesome here! To see it, open this notebook outside GitHub, in a viewer like Jupyter</em></div>"
      ],
      "text/plain": [
       "<IPython.core.display.HTML object>"
      ]
     },
     "metadata": {
      "pixieapp_metadata": null
     },
     "output_type": "display_data"
    }
   ],
   "source": [
    "display(df)"
   ]
  },
  {
   "cell_type": "markdown",
   "metadata": {},
   "source": [
    "## Generate future forecast"
   ]
  },
  {
   "cell_type": "code",
   "execution_count": null,
   "metadata": {},
   "outputs": [],
   "source": [
    "def forcasting_future_months(df, no_of_months, column):\n",
    "    df_perdict = df.copy()\n",
    "    mon = df_perdict['Report Date Time']\n",
    "    mon = mon + pd.DateOffset(months = no_of_months)\n",
    "    future_dates = mon[-no_of_months -1:]\n",
    "    df_perdict = df_perdict.set_index('Report Date Time')\n",
    "    future = pd.DataFrame(index=future_dates, columns= df_perdict.columns)\n",
    "    df_perdict = pd.concat([df_perdict, future])\n",
    "    df_perdict['forecast'] = results.predict(start = 38, end = 54, dynamic= True)  \n",
    "    df_perdict[[column, 'forecast']].iloc[-no_of_months - 12:].plot(figsize=(12, 8))\n",
    "    plt.show()\n",
    "    return df_perdict[-no_of_months:]"
   ]
  },
  {
   "cell_type": "code",
   "execution_count": null,
   "metadata": {},
   "outputs": [],
   "source": [
    "# 'Min Delay' and 'Delay Count'; dfmonthav dataframe\n",
    "predicted = forcasting_future_months(dfmonthav,10,'Min Delay')"
   ]
  },
  {
   "cell_type": "code",
   "execution_count": null,
   "metadata": {},
   "outputs": [],
   "source": [
    "df.tail()"
   ]
  },
  {
   "cell_type": "code",
   "execution_count": null,
   "metadata": {},
   "outputs": [],
   "source": []
  },
  {
   "cell_type": "code",
   "execution_count": null,
   "metadata": {},
   "outputs": [],
   "source": [
    "def get_day_of_week_sorter():\n",
    "    sorter = ['Monday', 'Tuesday', 'Wednesday', 'Thursday', 'Friday', 'Saturday','Sunday']\n",
    "    sorterIndex = dict(zip(sorter,range(len(sorter))))\n",
    "    return(sorterIndex)"
   ]
  },
  {
   "cell_type": "code",
   "execution_count": null,
   "metadata": {},
   "outputs": [],
   "source": [
    "# create index to allow correct sorting of days of the week\n",
    "def apply_day_sorter(df,sorterIndex):\n",
    "    df['Day_id'] = df['Day'].map(sorterIndex)\n",
    "    return(df)\n"
   ]
  }
 ],
 "metadata": {
  "kernelspec": {
   "display_name": "Python 3",
   "language": "python",
   "name": "python3"
  },
  "language_info": {
   "codemirror_mode": {
    "name": "ipython",
    "version": 3
   },
   "file_extension": ".py",
   "mimetype": "text/x-python",
   "name": "python",
   "nbconvert_exporter": "python",
   "pygments_lexer": "ipython3",
   "version": "3.6.4"
  }
 },
 "nbformat": 4,
 "nbformat_minor": 2
}
